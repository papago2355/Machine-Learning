{
 "cells": [
  {
   "cell_type": "code",
   "execution_count": 1,
   "id": "c4789442-712c-4f08-8c2b-dc621fa845b4",
   "metadata": {},
   "outputs": [],
   "source": [
    "import numpy as np\n",
    "import pandas as pd\n",
    "\n",
    "\n",
    "#최대 최소값이 각각 1,0 이 되도록 스케일링 해줌\n",
    "from sklearn.preprocessing import MaxAbsScaler\n",
    "from sklearn.metrics import accuracy_score,f1_score,log_loss,roc_auc_score\n",
    "from sklearn import svm\n",
    "#shuffle split cross validation : train set의 크기를 유연하게 조절 할때 사용됨\n",
    "from sklearn.model_selection import train_test_split,ShuffleSplit,cross_val_score,GridSearchCV"
   ]
  },
  {
   "cell_type": "code",
   "execution_count": 2,
   "id": "c608b54d-4a95-4fb9-8379-b8b44c390131",
   "metadata": {},
   "outputs": [],
   "source": [
    "from sklearn import svm\n",
    "from sklearn.linear_model import LogisticRegression,SGDClassifier\n",
    "from os.path import join as opj\n",
    "from matplotlib import pyplot as plt\n",
    "\n",
    "from matplotlib.colors import Normalize"
   ]
  },
  {
   "cell_type": "code",
   "execution_count": 3,
   "id": "45bbc9b5-01d6-4da3-ae37-d94d71477e25",
   "metadata": {},
   "outputs": [],
   "source": [
    "train = pd.read_json('./train.json')"
   ]
  },
  {
   "cell_type": "code",
   "execution_count": 4,
   "id": "0894f2e6-f862-46f3-b531-84103cb19c36",
   "metadata": {},
   "outputs": [
    {
     "data": {
      "text/html": [
       "<div>\n",
       "<style scoped>\n",
       "    .dataframe tbody tr th:only-of-type {\n",
       "        vertical-align: middle;\n",
       "    }\n",
       "\n",
       "    .dataframe tbody tr th {\n",
       "        vertical-align: top;\n",
       "    }\n",
       "\n",
       "    .dataframe thead th {\n",
       "        text-align: right;\n",
       "    }\n",
       "</style>\n",
       "<table border=\"1\" class=\"dataframe\">\n",
       "  <thead>\n",
       "    <tr style=\"text-align: right;\">\n",
       "      <th></th>\n",
       "      <th>id</th>\n",
       "      <th>band_1</th>\n",
       "      <th>band_2</th>\n",
       "      <th>inc_angle</th>\n",
       "      <th>is_iceberg</th>\n",
       "    </tr>\n",
       "  </thead>\n",
       "  <tbody>\n",
       "    <tr>\n",
       "      <th>0</th>\n",
       "      <td>dfd5f913</td>\n",
       "      <td>[-27.878360999999998, -27.15416, -28.668615, -...</td>\n",
       "      <td>[-27.154118, -29.537888, -31.0306, -32.190483,...</td>\n",
       "      <td>43.9239</td>\n",
       "      <td>0</td>\n",
       "    </tr>\n",
       "    <tr>\n",
       "      <th>1</th>\n",
       "      <td>e25388fd</td>\n",
       "      <td>[-12.242375, -14.920304999999999, -14.920363, ...</td>\n",
       "      <td>[-31.506321, -27.984554, -26.645678, -23.76760...</td>\n",
       "      <td>38.1562</td>\n",
       "      <td>0</td>\n",
       "    </tr>\n",
       "    <tr>\n",
       "      <th>2</th>\n",
       "      <td>58b2aaa0</td>\n",
       "      <td>[-24.603676, -24.603714, -24.871029, -23.15277...</td>\n",
       "      <td>[-24.870956, -24.092632, -20.653963, -19.41104...</td>\n",
       "      <td>45.2859</td>\n",
       "      <td>1</td>\n",
       "    </tr>\n",
       "    <tr>\n",
       "      <th>3</th>\n",
       "      <td>4cfc3a18</td>\n",
       "      <td>[-22.454607, -23.082819, -23.998013, -23.99805...</td>\n",
       "      <td>[-27.889421, -27.519794, -27.165262, -29.10350...</td>\n",
       "      <td>43.8306</td>\n",
       "      <td>0</td>\n",
       "    </tr>\n",
       "    <tr>\n",
       "      <th>4</th>\n",
       "      <td>271f93f4</td>\n",
       "      <td>[-26.006956, -23.164886, -23.164886, -26.89116...</td>\n",
       "      <td>[-27.206915, -30.259186, -30.259186, -23.16495...</td>\n",
       "      <td>35.6256</td>\n",
       "      <td>0</td>\n",
       "    </tr>\n",
       "  </tbody>\n",
       "</table>\n",
       "</div>"
      ],
      "text/plain": [
       "         id                                             band_1  \\\n",
       "0  dfd5f913  [-27.878360999999998, -27.15416, -28.668615, -...   \n",
       "1  e25388fd  [-12.242375, -14.920304999999999, -14.920363, ...   \n",
       "2  58b2aaa0  [-24.603676, -24.603714, -24.871029, -23.15277...   \n",
       "3  4cfc3a18  [-22.454607, -23.082819, -23.998013, -23.99805...   \n",
       "4  271f93f4  [-26.006956, -23.164886, -23.164886, -26.89116...   \n",
       "\n",
       "                                              band_2 inc_angle  is_iceberg  \n",
       "0  [-27.154118, -29.537888, -31.0306, -32.190483,...   43.9239           0  \n",
       "1  [-31.506321, -27.984554, -26.645678, -23.76760...   38.1562           0  \n",
       "2  [-24.870956, -24.092632, -20.653963, -19.41104...   45.2859           1  \n",
       "3  [-27.889421, -27.519794, -27.165262, -29.10350...   43.8306           0  \n",
       "4  [-27.206915, -30.259186, -30.259186, -23.16495...   35.6256           0  "
      ]
     },
     "execution_count": 4,
     "metadata": {},
     "output_type": "execute_result"
    }
   ],
   "source": [
    "train.head(5)"
   ]
  },
  {
   "cell_type": "code",
   "execution_count": 5,
   "id": "0b368fa6-407a-45c6-9b5a-2367f9dd0b22",
   "metadata": {},
   "outputs": [
    {
     "data": {
      "text/plain": [
       "0    [-27.878360999999998, -27.15416, -28.668615, -...\n",
       "1    [-12.242375, -14.920304999999999, -14.920363, ...\n",
       "2    [-24.603676, -24.603714, -24.871029, -23.15277...\n",
       "3    [-22.454607, -23.082819, -23.998013, -23.99805...\n",
       "4    [-26.006956, -23.164886, -23.164886, -26.89116...\n",
       "Name: band_1, dtype: object"
      ]
     },
     "execution_count": 5,
     "metadata": {},
     "output_type": "execute_result"
    }
   ],
   "source": [
    "train.band_1.head(5)"
   ]
  },
  {
   "cell_type": "code",
   "execution_count": 6,
   "id": "8101ad7b-ca80-4d21-85be-600b86696266",
   "metadata": {},
   "outputs": [
    {
     "name": "stdout",
     "output_type": "stream",
     "text": [
      "<class 'pandas.core.frame.DataFrame'>\n",
      "RangeIndex: 1604 entries, 0 to 1603\n",
      "Data columns (total 5 columns):\n",
      " #   Column      Non-Null Count  Dtype \n",
      "---  ------      --------------  ----- \n",
      " 0   id          1604 non-null   object\n",
      " 1   band_1      1604 non-null   object\n",
      " 2   band_2      1604 non-null   object\n",
      " 3   inc_angle   1604 non-null   object\n",
      " 4   is_iceberg  1604 non-null   int64 \n",
      "dtypes: int64(1), object(4)\n",
      "memory usage: 62.8+ KB\n"
     ]
    }
   ],
   "source": [
    "train.info()"
   ]
  },
  {
   "cell_type": "code",
   "execution_count": 7,
   "id": "dd1e4d0c-3154-468c-9148-8478a2b38db8",
   "metadata": {},
   "outputs": [],
   "source": [
    "train.inc_angle.replace({'na':np.nan},inplace=True)\n",
    "train.drop(train[train['inc_angle'].isnull()].index,inplace=True)"
   ]
  },
  {
   "cell_type": "code",
   "execution_count": 8,
   "id": "f9a2cc07-6b54-41b2-b5d8-95f5df064932",
   "metadata": {},
   "outputs": [
    {
     "name": "stdout",
     "output_type": "stream",
     "text": [
      "<class 'pandas.core.frame.DataFrame'>\n",
      "Int64Index: 1471 entries, 0 to 1508\n",
      "Data columns (total 5 columns):\n",
      " #   Column      Non-Null Count  Dtype  \n",
      "---  ------      --------------  -----  \n",
      " 0   id          1471 non-null   object \n",
      " 1   band_1      1471 non-null   object \n",
      " 2   band_2      1471 non-null   object \n",
      " 3   inc_angle   1471 non-null   float64\n",
      " 4   is_iceberg  1471 non-null   int64  \n",
      "dtypes: float64(1), int64(1), object(3)\n",
      "memory usage: 69.0+ KB\n"
     ]
    }
   ],
   "source": [
    "train.info()"
   ]
  },
  {
   "cell_type": "code",
   "execution_count": 9,
   "id": "c9cd36c1-511a-4bf5-8e8b-2ba36bf0f011",
   "metadata": {},
   "outputs": [
    {
     "data": {
      "text/plain": [
       "(1471, 11251)"
      ]
     },
     "execution_count": 9,
     "metadata": {},
     "output_type": "execute_result"
    }
   ],
   "source": [
    "X_HH_train = np.array([np.array(band).astype(np.float32) for band in train.band_1])\n",
    "X_HV_train = np.array([np.array(band).astype(np.float32) for band in train.band_2])\n",
    "X_angle_train=np.array([[np.array(angle).astype(np.float32) for angle in train.inc_angle]]).T\n",
    "\n",
    "y_train=train.is_iceberg.values.astype(np.float32)\n",
    "X_train=np.concatenate((X_HH_train,X_HV_train,X_angle_train), axis=1)\n",
    "X_train.shape"
   ]
  },
  {
   "cell_type": "code",
   "execution_count": 10,
   "id": "9028d553-9776-4361-8838-f34009ca10fa",
   "metadata": {},
   "outputs": [],
   "source": [
    "scaler = MaxAbsScaler()\n",
    "X_train_maxabs = scaler.fit_transform(X_train)"
   ]
  },
  {
   "cell_type": "code",
   "execution_count": 11,
   "id": "46f4a7d9-4ac5-488a-90c4-4ed2f1202145",
   "metadata": {},
   "outputs": [
    {
     "name": "stdout",
     "output_type": "stream",
     "text": [
      "The best parameters are {'C': 10, 'gamma': 0.01} with a score of 0.92\n"
     ]
    }
   ],
   "source": [
    "# Create the SVM instance using Radial Basis Function (rbf) kernel\n",
    "clf = svm.SVC(kernel='rbf',probability=False)\n",
    "# Set the range of hyper-parameter we wanna use to tune our SVM classifier\n",
    "C_range = [0.1,1,10,50,100]\n",
    "gamma_range = [0.00001,0.0001,0.001,0.01,0.1]\n",
    "param_grid_SVM = dict(gamma=gamma_range, C=C_range)\n",
    "# set the gridsearch using 3-fold cross validation and 'ROC Area Under the Curve' as the cross validation score. \n",
    "grid = GridSearchCV(clf, param_grid=param_grid_SVM, cv=3,scoring='roc_auc')\n",
    "grid.fit(X_train_maxabs, y_train)\n",
    "print(\"The best parameters are %s with a score of %0.2f\" % (grid.best_params_, grid.best_score_))"
   ]
  },
  {
   "cell_type": "code",
   "execution_count": null,
   "id": "a3fbc4f0-79cf-4baa-8793-0db4c59e41f1",
   "metadata": {},
   "outputs": [],
   "source": []
  },
  {
   "cell_type": "code",
   "execution_count": null,
   "id": "7205c54d-0b2c-45b5-9421-c7c75e98810e",
   "metadata": {},
   "outputs": [],
   "source": []
  }
 ],
 "metadata": {
  "kernelspec": {
   "display_name": "tf2.4",
   "language": "python",
   "name": "tf2.4"
  },
  "language_info": {
   "codemirror_mode": {
    "name": "ipython",
    "version": 3
   },
   "file_extension": ".py",
   "mimetype": "text/x-python",
   "name": "python",
   "nbconvert_exporter": "python",
   "pygments_lexer": "ipython3",
   "version": "3.6.13"
  }
 },
 "nbformat": 4,
 "nbformat_minor": 5
}
