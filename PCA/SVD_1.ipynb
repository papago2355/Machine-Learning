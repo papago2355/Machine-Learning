{
 "cells": [
  {
   "cell_type": "markdown",
   "id": "1d234279-bc35-46cc-8a92-fe21e22f1a30",
   "metadata": {},
   "source": [
    "## SVD vs PCA\n",
    "\n",
    "Note: PCA and the SVD are the same thing and it's usually better to just use the SVD of the centered data matrix because SVD algorithms are faster and numerically more stable than PCA.\n",
    "\n",
    "라는 의견이 quora 전문가한테서 달려왔음.\n",
    "\n",
    "일반적으로는 SVD 가 더 좋다고 함.\n",
    "\n",
    "https://stats.stackexchange.com/questions/314046/why-does-andrew-ng-prefer-to-use-svd-and-not-eig-of-covariance-matrix-to-do-pca\n",
    "\n",
    "사실상 둘은 수학적으로는 같은 방식을 차용하나, SVD의 방식이 훨씬 안정적이고, 머신 러닝 분야에서는 SVD를 추천한다고 함\n"
   ]
  },
  {
   "cell_type": "code",
   "execution_count": 1,
   "id": "05157898-2eec-4d73-bccf-f58228f84714",
   "metadata": {},
   "outputs": [
    {
     "name": "stdout",
     "output_type": "stream",
     "text": [
      "[[-0.052 -0.111  1.042 -1.257]\n",
      " [ 0.745 -1.711 -0.206 -0.235]\n",
      " [ 1.128 -0.013 -0.613  1.374]\n",
      " [ 1.611 -0.689  0.692 -0.448]]\n"
     ]
    }
   ],
   "source": [
    "import numpy as np\n",
    "from numpy.linalg import svd\n",
    "\n",
    "np.random.seed(21)\n",
    "a = np.random.randn(4,4)\n",
    "print(np.round(a,3))"
   ]
  },
  {
   "cell_type": "code",
   "execution_count": 2,
   "id": "355925a2-d1fa-47c9-b21d-c4f9d3c04a5f",
   "metadata": {},
   "outputs": [
    {
     "name": "stdout",
     "output_type": "stream",
     "text": [
      "(4, 4) (4,) (4, 4)\n",
      "[[ 0.13  -0.666  0.236  0.696]\n",
      " [ 0.653  0.011 -0.744  0.142]\n",
      " [ 0.236  0.734  0.323  0.549]\n",
      " [ 0.708 -0.133  0.535 -0.441]]\n",
      "[2.531 2.367 1.238 0.076]\n",
      "[[ 0.745 -0.641  0.137 -0.122]\n",
      " [ 0.278  0.058 -0.523  0.804]\n",
      " [ 0.533  0.706  0.462  0.066]\n",
      " [-0.289 -0.296  0.703  0.579]]\n"
     ]
    }
   ],
   "source": [
    "U, Sigma, Vt = svd(a)\n",
    "print(U.shape,Sigma.shape,Vt.shape)\n",
    "print(np.round(U,3))\n",
    "print(np.round(Sigma,3))\n",
    "print(np.round(Vt,3))"
   ]
  },
  {
   "cell_type": "code",
   "execution_count": 3,
   "id": "c9ba69cf-9cff-4ec0-ad90-0cf9174b4716",
   "metadata": {},
   "outputs": [
    {
     "name": "stdout",
     "output_type": "stream",
     "text": [
      "[[-0.052 -0.111  1.042 -1.257]\n",
      " [ 0.745 -1.711 -0.206 -0.235]\n",
      " [ 1.128 -0.013 -0.613  1.374]\n",
      " [ 1.611 -0.689  0.692 -0.448]]\n"
     ]
    }
   ],
   "source": [
    "Sigma_mat = np.diag(Sigma)\n",
    "a_ = np.dot(np.dot(U,Sigma_mat),Vt)\n",
    "print(np.round(a_,3))"
   ]
  },
  {
   "cell_type": "code",
   "execution_count": 4,
   "id": "8f82ff7a-0fb5-46c9-b957-0d54c5904fdd",
   "metadata": {},
   "outputs": [
    {
     "name": "stdout",
     "output_type": "stream",
     "text": [
      "[[-0.052 -0.111  1.042 -1.257]\n",
      " [ 0.745 -1.711 -0.206 -0.235]\n",
      " [ 1.128 -0.013 -0.613  1.374]\n",
      " [ 1.611 -0.689  0.692 -0.448]]\n"
     ]
    }
   ],
   "source": [
    "a[2] = a[0] + a[1]\n",
    "a[3] = a[0]\n",
    "print(np.round(a_,3))"
   ]
  },
  {
   "cell_type": "code",
   "execution_count": 5,
   "id": "c0941712-42ee-4a69-bf36-ac7cedabdc28",
   "metadata": {},
   "outputs": [
    {
     "name": "stdout",
     "output_type": "stream",
     "text": [
      "(4, 4) (4,) (4, 4)\n",
      "[[ 0.372 -0.511  0.772 -0.063]\n",
      " [ 0.385  0.672  0.304  0.554]\n",
      " [ 0.758  0.161 -0.304 -0.554]\n",
      " [ 0.372 -0.511 -0.468  0.617]]\n",
      "[3.395 2.035 0.    0.   ]\n",
      "[[ 0.228 -0.625  0.392 -0.635]\n",
      " [ 0.327 -0.653 -0.525  0.436]\n",
      " [ 0.601  0.389 -0.507 -0.48 ]\n",
      " [-0.692 -0.177 -0.56  -0.42 ]]\n"
     ]
    }
   ],
   "source": [
    "U, Sigma, Vt = svd(a)\n",
    "print(U.shape,Sigma.shape,Vt.shape)\n",
    "print(np.round(U,3))\n",
    "print(np.round(Sigma,3))\n",
    "print(np.round(Vt,3))"
   ]
  },
  {
   "cell_type": "code",
   "execution_count": 6,
   "id": "22fb4dec-b3da-4eb3-8a25-6afb458a9612",
   "metadata": {},
   "outputs": [
    {
     "name": "stdout",
     "output_type": "stream",
     "text": [
      "(4, 2) (2, 2) (2, 4)\n",
      "[[ 0.397  0.573  0.523 -1.583]\n",
      " [ 0.94  -1.51  -0.668 -0.124]\n",
      " [ 0.364 -1.587  0.766 -0.854]\n",
      " [-0.562 -0.033  1.272 -0.869]]\n"
     ]
    }
   ],
   "source": [
    "U_ = U[:,:2]\n",
    "Sigma_ = np.diag(Sigma[:2])\n",
    "Vt_ = Vt[:2]\n",
    "print(U_.shape,Sigma_.shape,Vt_.shape)\n",
    "\n",
    "a_ = np.dot(np.dot(U,Sigma_mat),Vt)\n",
    "print(np.round(a_,3))"
   ]
  }
 ],
 "metadata": {
  "kernelspec": {
   "display_name": "pytorch",
   "language": "python",
   "name": "pytorch"
  },
  "language_info": {
   "codemirror_mode": {
    "name": "ipython",
    "version": 3
   },
   "file_extension": ".py",
   "mimetype": "text/x-python",
   "name": "python",
   "nbconvert_exporter": "python",
   "pygments_lexer": "ipython3",
   "version": "3.6.12"
  }
 },
 "nbformat": 4,
 "nbformat_minor": 5
}
