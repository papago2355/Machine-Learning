{
 "cells": [
  {
   "cell_type": "markdown",
   "id": "casual-check",
   "metadata": {
    "papermill": {
     "duration": 0.044052,
     "end_time": "2021-04-02T07:49:34.506848",
     "exception": false,
     "start_time": "2021-04-02T07:49:34.462796",
     "status": "completed"
    },
    "tags": []
   },
   "source": [
    "## Titanic dataset"
   ]
  },
  {
   "cell_type": "markdown",
   "id": "optical-calendar",
   "metadata": {
    "papermill": {
     "duration": 0.041129,
     "end_time": "2021-04-02T07:49:34.591077",
     "exception": false,
     "start_time": "2021-04-02T07:49:34.549948",
     "status": "completed"
    },
    "tags": []
   },
   "source": [
    "We are going to look the attributes and properties of titanic members and see what we can get from this dataset."
   ]
  },
  {
   "cell_type": "code",
   "execution_count": 1,
   "id": "portuguese-membership",
   "metadata": {
    "_cell_guid": "b1076dfc-b9ad-4769-8c92-a6c4dae69d19",
    "_uuid": "8f2839f25d086af736a60e9eeb907d3b93b6e0e5",
    "execution": {
     "iopub.execute_input": "2021-04-02T07:49:34.677932Z",
     "iopub.status.busy": "2021-04-02T07:49:34.676661Z",
     "iopub.status.idle": "2021-04-02T07:49:34.715530Z",
     "shell.execute_reply": "2021-04-02T07:49:34.716040Z"
    },
    "papermill": {
     "duration": 0.084027,
     "end_time": "2021-04-02T07:49:34.716450",
     "exception": false,
     "start_time": "2021-04-02T07:49:34.632423",
     "status": "completed"
    },
    "tags": []
   },
   "outputs": [
    {
     "name": "stdout",
     "output_type": "stream",
     "text": [
      "/kaggle/input/titanic-machine-learning-from-disaster/train.csv\n",
      "/kaggle/input/titanic-machine-learning-from-disaster/test.csv\n"
     ]
    }
   ],
   "source": [
    "# This Python 3 environment comes with many helpful analytics libraries installed\n",
    "# It is defined by the kaggle/python Docker image: https://github.com/kaggle/docker-python\n",
    "# For example, here's several helpful packages to load\n",
    "\n",
    "import numpy as np # linear algebra\n",
    "import pandas as pd # data processing, CSV file I/O (e.g. pd.read_csv)\n",
    "\n",
    "# Input data files are available in the read-only \"../input/\" directory\n",
    "# For example, running this (by clicking run or pressing Shift+Enter) will list all files under the input directory\n",
    "\n",
    "import os\n",
    "for dirname, _, filenames in os.walk('/kaggle/input'):\n",
    "    for filename in filenames:\n",
    "        print(os.path.join(dirname, filename))\n",
    "\n",
    "# You can write up to 20GB to the current directory (/kaggle/working/) that gets preserved as output when you create a version using \"Save & Run All\" \n",
    "# You can also write temporary files to /kaggle/temp/, but they won't be saved outside of the current session"
   ]
  },
  {
   "cell_type": "code",
   "execution_count": 2,
   "id": "gentle-excitement",
   "metadata": {
    "execution": {
     "iopub.execute_input": "2021-04-02T07:49:34.805383Z",
     "iopub.status.busy": "2021-04-02T07:49:34.804639Z",
     "iopub.status.idle": "2021-04-02T07:49:35.930614Z",
     "shell.execute_reply": "2021-04-02T07:49:35.929839Z"
    },
    "papermill": {
     "duration": 1.172159,
     "end_time": "2021-04-02T07:49:35.930781",
     "exception": false,
     "start_time": "2021-04-02T07:49:34.758622",
     "status": "completed"
    },
    "tags": []
   },
   "outputs": [],
   "source": [
    "import numpy as np\n",
    "import pandas as pd\n",
    "import matplotlib.pyplot as plt\n",
    "import seaborn as sns #add seaborn for better visualization"
   ]
  },
  {
   "cell_type": "markdown",
   "id": "found-cover",
   "metadata": {
    "papermill": {
     "duration": 0.048847,
     "end_time": "2021-04-02T07:49:36.030479",
     "exception": false,
     "start_time": "2021-04-02T07:49:35.981632",
     "status": "completed"
    },
    "tags": []
   },
   "source": [
    "## Read datset"
   ]
  },
  {
   "cell_type": "code",
   "execution_count": 3,
   "id": "capable-pressing",
   "metadata": {
    "execution": {
     "iopub.execute_input": "2021-04-02T07:49:36.148872Z",
     "iopub.status.busy": "2021-04-02T07:49:36.148165Z",
     "iopub.status.idle": "2021-04-02T07:49:36.206297Z",
     "shell.execute_reply": "2021-04-02T07:49:36.205589Z"
    },
    "papermill": {
     "duration": 0.114668,
     "end_time": "2021-04-02T07:49:36.206444",
     "exception": false,
     "start_time": "2021-04-02T07:49:36.091776",
     "status": "completed"
    },
    "tags": []
   },
   "outputs": [
    {
     "data": {
      "text/html": [
       "<div>\n",
       "<style scoped>\n",
       "    .dataframe tbody tr th:only-of-type {\n",
       "        vertical-align: middle;\n",
       "    }\n",
       "\n",
       "    .dataframe tbody tr th {\n",
       "        vertical-align: top;\n",
       "    }\n",
       "\n",
       "    .dataframe thead th {\n",
       "        text-align: right;\n",
       "    }\n",
       "</style>\n",
       "<table border=\"1\" class=\"dataframe\">\n",
       "  <thead>\n",
       "    <tr style=\"text-align: right;\">\n",
       "      <th></th>\n",
       "      <th>PassengerId</th>\n",
       "      <th>Survived</th>\n",
       "      <th>Pclass</th>\n",
       "      <th>Name</th>\n",
       "      <th>Sex</th>\n",
       "      <th>Age</th>\n",
       "      <th>SibSp</th>\n",
       "      <th>Parch</th>\n",
       "      <th>Ticket</th>\n",
       "      <th>Fare</th>\n",
       "      <th>Cabin</th>\n",
       "      <th>Embarked</th>\n",
       "    </tr>\n",
       "  </thead>\n",
       "  <tbody>\n",
       "    <tr>\n",
       "      <th>0</th>\n",
       "      <td>1</td>\n",
       "      <td>0</td>\n",
       "      <td>3</td>\n",
       "      <td>Braund, Mr. Owen Harris</td>\n",
       "      <td>male</td>\n",
       "      <td>22.0</td>\n",
       "      <td>1</td>\n",
       "      <td>0</td>\n",
       "      <td>A/5 21171</td>\n",
       "      <td>7.2500</td>\n",
       "      <td>NaN</td>\n",
       "      <td>S</td>\n",
       "    </tr>\n",
       "    <tr>\n",
       "      <th>1</th>\n",
       "      <td>2</td>\n",
       "      <td>1</td>\n",
       "      <td>1</td>\n",
       "      <td>Cumings, Mrs. John Bradley (Florence Briggs Th...</td>\n",
       "      <td>female</td>\n",
       "      <td>38.0</td>\n",
       "      <td>1</td>\n",
       "      <td>0</td>\n",
       "      <td>PC 17599</td>\n",
       "      <td>71.2833</td>\n",
       "      <td>C85</td>\n",
       "      <td>C</td>\n",
       "    </tr>\n",
       "    <tr>\n",
       "      <th>2</th>\n",
       "      <td>3</td>\n",
       "      <td>1</td>\n",
       "      <td>3</td>\n",
       "      <td>Heikkinen, Miss. Laina</td>\n",
       "      <td>female</td>\n",
       "      <td>26.0</td>\n",
       "      <td>0</td>\n",
       "      <td>0</td>\n",
       "      <td>STON/O2. 3101282</td>\n",
       "      <td>7.9250</td>\n",
       "      <td>NaN</td>\n",
       "      <td>S</td>\n",
       "    </tr>\n",
       "    <tr>\n",
       "      <th>3</th>\n",
       "      <td>4</td>\n",
       "      <td>1</td>\n",
       "      <td>1</td>\n",
       "      <td>Futrelle, Mrs. Jacques Heath (Lily May Peel)</td>\n",
       "      <td>female</td>\n",
       "      <td>35.0</td>\n",
       "      <td>1</td>\n",
       "      <td>0</td>\n",
       "      <td>113803</td>\n",
       "      <td>53.1000</td>\n",
       "      <td>C123</td>\n",
       "      <td>S</td>\n",
       "    </tr>\n",
       "    <tr>\n",
       "      <th>4</th>\n",
       "      <td>5</td>\n",
       "      <td>0</td>\n",
       "      <td>3</td>\n",
       "      <td>Allen, Mr. William Henry</td>\n",
       "      <td>male</td>\n",
       "      <td>35.0</td>\n",
       "      <td>0</td>\n",
       "      <td>0</td>\n",
       "      <td>373450</td>\n",
       "      <td>8.0500</td>\n",
       "      <td>NaN</td>\n",
       "      <td>S</td>\n",
       "    </tr>\n",
       "  </tbody>\n",
       "</table>\n",
       "</div>"
      ],
      "text/plain": [
       "   PassengerId  Survived  Pclass  \\\n",
       "0            1         0       3   \n",
       "1            2         1       1   \n",
       "2            3         1       3   \n",
       "3            4         1       1   \n",
       "4            5         0       3   \n",
       "\n",
       "                                                Name     Sex   Age  SibSp  \\\n",
       "0                            Braund, Mr. Owen Harris    male  22.0      1   \n",
       "1  Cumings, Mrs. John Bradley (Florence Briggs Th...  female  38.0      1   \n",
       "2                             Heikkinen, Miss. Laina  female  26.0      0   \n",
       "3       Futrelle, Mrs. Jacques Heath (Lily May Peel)  female  35.0      1   \n",
       "4                           Allen, Mr. William Henry    male  35.0      0   \n",
       "\n",
       "   Parch            Ticket     Fare Cabin Embarked  \n",
       "0      0         A/5 21171   7.2500   NaN        S  \n",
       "1      0          PC 17599  71.2833   C85        C  \n",
       "2      0  STON/O2. 3101282   7.9250   NaN        S  \n",
       "3      0            113803  53.1000  C123        S  \n",
       "4      0            373450   8.0500   NaN        S  "
      ]
     },
     "execution_count": 3,
     "metadata": {},
     "output_type": "execute_result"
    }
   ],
   "source": [
    "train=pd.read_csv(r\"../input/titanic-machine-learning-from-disaster/train.csv\")\n",
    "train.head()"
   ]
  },
  {
   "cell_type": "code",
   "execution_count": 4,
   "id": "sublime-gallery",
   "metadata": {
    "execution": {
     "iopub.execute_input": "2021-04-02T07:49:36.302416Z",
     "iopub.status.busy": "2021-04-02T07:49:36.301648Z",
     "iopub.status.idle": "2021-04-02T07:49:36.306004Z",
     "shell.execute_reply": "2021-04-02T07:49:36.305299Z"
    },
    "papermill": {
     "duration": 0.057142,
     "end_time": "2021-04-02T07:49:36.306146",
     "exception": false,
     "start_time": "2021-04-02T07:49:36.249004",
     "status": "completed"
    },
    "tags": []
   },
   "outputs": [
    {
     "data": {
      "text/html": [
       "<div>\n",
       "<style scoped>\n",
       "    .dataframe tbody tr th:only-of-type {\n",
       "        vertical-align: middle;\n",
       "    }\n",
       "\n",
       "    .dataframe tbody tr th {\n",
       "        vertical-align: top;\n",
       "    }\n",
       "\n",
       "    .dataframe thead th {\n",
       "        text-align: right;\n",
       "    }\n",
       "</style>\n",
       "<table border=\"1\" class=\"dataframe\">\n",
       "  <thead>\n",
       "    <tr style=\"text-align: right;\">\n",
       "      <th></th>\n",
       "      <th>0</th>\n",
       "    </tr>\n",
       "  </thead>\n",
       "  <tbody>\n",
       "    <tr>\n",
       "      <th>PassengerId</th>\n",
       "      <td>int64</td>\n",
       "    </tr>\n",
       "    <tr>\n",
       "      <th>Survived</th>\n",
       "      <td>int64</td>\n",
       "    </tr>\n",
       "    <tr>\n",
       "      <th>Pclass</th>\n",
       "      <td>int64</td>\n",
       "    </tr>\n",
       "    <tr>\n",
       "      <th>Name</th>\n",
       "      <td>object</td>\n",
       "    </tr>\n",
       "    <tr>\n",
       "      <th>Sex</th>\n",
       "      <td>object</td>\n",
       "    </tr>\n",
       "    <tr>\n",
       "      <th>Age</th>\n",
       "      <td>float64</td>\n",
       "    </tr>\n",
       "    <tr>\n",
       "      <th>SibSp</th>\n",
       "      <td>int64</td>\n",
       "    </tr>\n",
       "    <tr>\n",
       "      <th>Parch</th>\n",
       "      <td>int64</td>\n",
       "    </tr>\n",
       "    <tr>\n",
       "      <th>Ticket</th>\n",
       "      <td>object</td>\n",
       "    </tr>\n",
       "    <tr>\n",
       "      <th>Fare</th>\n",
       "      <td>float64</td>\n",
       "    </tr>\n",
       "    <tr>\n",
       "      <th>Cabin</th>\n",
       "      <td>object</td>\n",
       "    </tr>\n",
       "    <tr>\n",
       "      <th>Embarked</th>\n",
       "      <td>object</td>\n",
       "    </tr>\n",
       "  </tbody>\n",
       "</table>\n",
       "</div>"
      ],
      "text/plain": [
       "                   0\n",
       "PassengerId    int64\n",
       "Survived       int64\n",
       "Pclass         int64\n",
       "Name          object\n",
       "Sex           object\n",
       "Age          float64\n",
       "SibSp          int64\n",
       "Parch          int64\n",
       "Ticket        object\n",
       "Fare         float64\n",
       "Cabin         object\n",
       "Embarked      object"
      ]
     },
     "execution_count": 4,
     "metadata": {},
     "output_type": "execute_result"
    }
   ],
   "source": [
    "dataset = pd.DataFrame(train.dtypes)\n",
    "dataset"
   ]
  },
  {
   "cell_type": "code",
   "execution_count": 5,
   "id": "whole-terry",
   "metadata": {
    "execution": {
     "iopub.execute_input": "2021-04-02T07:49:36.397930Z",
     "iopub.status.busy": "2021-04-02T07:49:36.397215Z",
     "iopub.status.idle": "2021-04-02T07:49:36.405328Z",
     "shell.execute_reply": "2021-04-02T07:49:36.404749Z"
    },
    "papermill": {
     "duration": 0.054701,
     "end_time": "2021-04-02T07:49:36.405493",
     "exception": false,
     "start_time": "2021-04-02T07:49:36.350792",
     "status": "completed"
    },
    "tags": []
   },
   "outputs": [
    {
     "data": {
      "text/plain": [
       "(891, 12)"
      ]
     },
     "execution_count": 5,
     "metadata": {},
     "output_type": "execute_result"
    }
   ],
   "source": [
    "train.shape"
   ]
  },
  {
   "cell_type": "code",
   "execution_count": 6,
   "id": "severe-inquiry",
   "metadata": {
    "execution": {
     "iopub.execute_input": "2021-04-02T07:49:36.517066Z",
     "iopub.status.busy": "2021-04-02T07:49:36.506390Z",
     "iopub.status.idle": "2021-04-02T07:49:36.522002Z",
     "shell.execute_reply": "2021-04-02T07:49:36.521445Z"
    },
    "papermill": {
     "duration": 0.070653,
     "end_time": "2021-04-02T07:49:36.522153",
     "exception": false,
     "start_time": "2021-04-02T07:49:36.451500",
     "status": "completed"
    },
    "tags": []
   },
   "outputs": [
    {
     "name": "stdout",
     "output_type": "stream",
     "text": [
      "<class 'pandas.core.frame.DataFrame'>\n",
      "RangeIndex: 891 entries, 0 to 890\n",
      "Data columns (total 12 columns):\n",
      " #   Column       Non-Null Count  Dtype  \n",
      "---  ------       --------------  -----  \n",
      " 0   PassengerId  891 non-null    int64  \n",
      " 1   Survived     891 non-null    int64  \n",
      " 2   Pclass       891 non-null    int64  \n",
      " 3   Name         891 non-null    object \n",
      " 4   Sex          891 non-null    object \n",
      " 5   Age          714 non-null    float64\n",
      " 6   SibSp        891 non-null    int64  \n",
      " 7   Parch        891 non-null    int64  \n",
      " 8   Ticket       891 non-null    object \n",
      " 9   Fare         891 non-null    float64\n",
      " 10  Cabin        204 non-null    object \n",
      " 11  Embarked     889 non-null    object \n",
      "dtypes: float64(2), int64(5), object(5)\n",
      "memory usage: 83.7+ KB\n"
     ]
    }
   ],
   "source": [
    "train.info()"
   ]
  },
  {
   "cell_type": "code",
   "execution_count": 7,
   "id": "understood-recommendation",
   "metadata": {
    "execution": {
     "iopub.execute_input": "2021-04-02T07:49:36.620488Z",
     "iopub.status.busy": "2021-04-02T07:49:36.619793Z",
     "iopub.status.idle": "2021-04-02T07:49:36.791849Z",
     "shell.execute_reply": "2021-04-02T07:49:36.792405Z"
    },
    "papermill": {
     "duration": 0.225487,
     "end_time": "2021-04-02T07:49:36.792582",
     "exception": false,
     "start_time": "2021-04-02T07:49:36.567095",
     "status": "completed"
    },
    "tags": []
   },
   "outputs": [
    {
     "data": {
      "image/png": "[encoded data removed]",
      "text/plain": [
       "<Figure size 432x288 with 1 Axes>"
      ]
     },
     "metadata": {},
     "output_type": "display_data"
    }
   ],
   "source": [
    "sns.set_theme(style=\"darkgrid\")\n",
    "ax = sns.countplot(x=\"Survived\",data = train)"
   ]
  },
  {
   "cell_type": "code",
   "execution_count": 8,
   "id": "measured-basketball",
   "metadata": {
    "execution": {
     "iopub.execute_input": "2021-04-02T07:49:36.893226Z",
     "iopub.status.busy": "2021-04-02T07:49:36.892277Z",
     "iopub.status.idle": "2021-04-02T07:49:37.047116Z",
     "shell.execute_reply": "2021-04-02T07:49:37.046449Z"
    },
    "papermill": {
     "duration": 0.209003,
     "end_time": "2021-04-02T07:49:37.047284",
     "exception": false,
     "start_time": "2021-04-02T07:49:36.838281",
     "status": "completed"
    },
    "tags": []
   },
   "outputs": [
    {
     "data": {
      "image/png": "[encoded data removed]",
      "text/plain": [
       "<Figure size 432x288 with 1 Axes>"
      ]
     },
     "metadata": {},
     "output_type": "display_data"
    }
   ],
   "source": [
    "ax = sns.countplot(x=\"Survived\",hue=\"Sex\",data = train)"
   ]
  },
  {
   "cell_type": "markdown",
   "id": "attached-elimination",
   "metadata": {
    "papermill": {
     "duration": 0.046298,
     "end_time": "2021-04-02T07:49:37.144671",
     "exception": false,
     "start_time": "2021-04-02T07:49:37.098373",
     "status": "completed"
    },
    "tags": []
   },
   "source": [
    "## Find null or missing values"
   ]
  },
  {
   "cell_type": "code",
   "execution_count": 9,
   "id": "portuguese-branch",
   "metadata": {
    "execution": {
     "iopub.execute_input": "2021-04-02T07:49:37.258606Z",
     "iopub.status.busy": "2021-04-02T07:49:37.257499Z",
     "iopub.status.idle": "2021-04-02T07:49:37.263199Z",
     "shell.execute_reply": "2021-04-02T07:49:37.262492Z"
    },
    "papermill": {
     "duration": 0.069649,
     "end_time": "2021-04-02T07:49:37.263350",
     "exception": false,
     "start_time": "2021-04-02T07:49:37.193701",
     "status": "completed"
    },
    "tags": []
   },
   "outputs": [
    {
     "data": {
      "text/html": [
       "<div>\n",
       "<style scoped>\n",
       "    .dataframe tbody tr th:only-of-type {\n",
       "        vertical-align: middle;\n",
       "    }\n",
       "\n",
       "    .dataframe tbody tr th {\n",
       "        vertical-align: top;\n",
       "    }\n",
       "\n",
       "    .dataframe thead th {\n",
       "        text-align: right;\n",
       "    }\n",
       "</style>\n",
       "<table border=\"1\" class=\"dataframe\">\n",
       "  <thead>\n",
       "    <tr style=\"text-align: right;\">\n",
       "      <th></th>\n",
       "      <th>0</th>\n",
       "      <th>Missing value</th>\n",
       "    </tr>\n",
       "  </thead>\n",
       "  <tbody>\n",
       "    <tr>\n",
       "      <th>PassengerId</th>\n",
       "      <td>int64</td>\n",
       "      <td>0</td>\n",
       "    </tr>\n",
       "    <tr>\n",
       "      <th>Survived</th>\n",
       "      <td>int64</td>\n",
       "      <td>0</td>\n",
       "    </tr>\n",
       "    <tr>\n",
       "      <th>Pclass</th>\n",
       "      <td>int64</td>\n",
       "      <td>0</td>\n",
       "    </tr>\n",
       "    <tr>\n",
       "      <th>Name</th>\n",
       "      <td>object</td>\n",
       "      <td>0</td>\n",
       "    </tr>\n",
       "    <tr>\n",
       "      <th>Sex</th>\n",
       "      <td>object</td>\n",
       "      <td>0</td>\n",
       "    </tr>\n",
       "    <tr>\n",
       "      <th>Age</th>\n",
       "      <td>float64</td>\n",
       "      <td>177</td>\n",
       "    </tr>\n",
       "    <tr>\n",
       "      <th>SibSp</th>\n",
       "      <td>int64</td>\n",
       "      <td>0</td>\n",
       "    </tr>\n",
       "    <tr>\n",
       "      <th>Parch</th>\n",
       "      <td>int64</td>\n",
       "      <td>0</td>\n",
       "    </tr>\n",
       "    <tr>\n",
       "      <th>Ticket</th>\n",
       "      <td>object</td>\n",
       "      <td>0</td>\n",
       "    </tr>\n",
       "    <tr>\n",
       "      <th>Fare</th>\n",
       "      <td>float64</td>\n",
       "      <td>0</td>\n",
       "    </tr>\n",
       "    <tr>\n",
       "      <th>Cabin</th>\n",
       "      <td>object</td>\n",
       "      <td>687</td>\n",
       "    </tr>\n",
       "    <tr>\n",
       "      <th>Embarked</th>\n",
       "      <td>object</td>\n",
       "      <td>2</td>\n",
       "    </tr>\n",
       "  </tbody>\n",
       "</table>\n",
       "</div>"
      ],
      "text/plain": [
       "                   0  Missing value\n",
       "PassengerId    int64              0\n",
       "Survived       int64              0\n",
       "Pclass         int64              0\n",
       "Name          object              0\n",
       "Sex           object              0\n",
       "Age          float64            177\n",
       "SibSp          int64              0\n",
       "Parch          int64              0\n",
       "Ticket        object              0\n",
       "Fare         float64              0\n",
       "Cabin         object            687\n",
       "Embarked      object              2"
      ]
     },
     "execution_count": 9,
     "metadata": {},
     "output_type": "execute_result"
    }
   ],
   "source": [
    "#check is there any missing values in here\n",
    "dataset[\"Missing value\"]=train.isnull().sum()\n",
    "dataset"
   ]
  },
  {
   "cell_type": "code",
   "execution_count": 10,
   "id": "organic-george",
   "metadata": {
    "execution": {
     "iopub.execute_input": "2021-04-02T07:49:37.373971Z",
     "iopub.status.busy": "2021-04-02T07:49:37.365647Z",
     "iopub.status.idle": "2021-04-02T07:49:37.379869Z",
     "shell.execute_reply": "2021-04-02T07:49:37.379276Z"
    },
    "papermill": {
     "duration": 0.069598,
     "end_time": "2021-04-02T07:49:37.380016",
     "exception": false,
     "start_time": "2021-04-02T07:49:37.310418",
     "status": "completed"
    },
    "tags": []
   },
   "outputs": [
    {
     "data": {
      "text/html": [
       "<div>\n",
       "<style scoped>\n",
       "    .dataframe tbody tr th:only-of-type {\n",
       "        vertical-align: middle;\n",
       "    }\n",
       "\n",
       "    .dataframe tbody tr th {\n",
       "        vertical-align: top;\n",
       "    }\n",
       "\n",
       "    .dataframe thead th {\n",
       "        text-align: right;\n",
       "    }\n",
       "</style>\n",
       "<table border=\"1\" class=\"dataframe\">\n",
       "  <thead>\n",
       "    <tr style=\"text-align: right;\">\n",
       "      <th></th>\n",
       "      <th>0</th>\n",
       "      <th>Missing value</th>\n",
       "      <th>Count</th>\n",
       "    </tr>\n",
       "  </thead>\n",
       "  <tbody>\n",
       "    <tr>\n",
       "      <th>PassengerId</th>\n",
       "      <td>int64</td>\n",
       "      <td>0</td>\n",
       "      <td>891</td>\n",
       "    </tr>\n",
       "    <tr>\n",
       "      <th>Survived</th>\n",
       "      <td>int64</td>\n",
       "      <td>0</td>\n",
       "      <td>891</td>\n",
       "    </tr>\n",
       "    <tr>\n",
       "      <th>Pclass</th>\n",
       "      <td>int64</td>\n",
       "      <td>0</td>\n",
       "      <td>891</td>\n",
       "    </tr>\n",
       "    <tr>\n",
       "      <th>Name</th>\n",
       "      <td>object</td>\n",
       "      <td>0</td>\n",
       "      <td>891</td>\n",
       "    </tr>\n",
       "    <tr>\n",
       "      <th>Sex</th>\n",
       "      <td>object</td>\n",
       "      <td>0</td>\n",
       "      <td>891</td>\n",
       "    </tr>\n",
       "    <tr>\n",
       "      <th>Age</th>\n",
       "      <td>float64</td>\n",
       "      <td>177</td>\n",
       "      <td>714</td>\n",
       "    </tr>\n",
       "    <tr>\n",
       "      <th>SibSp</th>\n",
       "      <td>int64</td>\n",
       "      <td>0</td>\n",
       "      <td>891</td>\n",
       "    </tr>\n",
       "    <tr>\n",
       "      <th>Parch</th>\n",
       "      <td>int64</td>\n",
       "      <td>0</td>\n",
       "      <td>891</td>\n",
       "    </tr>\n",
       "    <tr>\n",
       "      <th>Ticket</th>\n",
       "      <td>object</td>\n",
       "      <td>0</td>\n",
       "      <td>891</td>\n",
       "    </tr>\n",
       "    <tr>\n",
       "      <th>Fare</th>\n",
       "      <td>float64</td>\n",
       "      <td>0</td>\n",
       "      <td>891</td>\n",
       "    </tr>\n",
       "    <tr>\n",
       "      <th>Cabin</th>\n",
       "      <td>object</td>\n",
       "      <td>687</td>\n",
       "      <td>204</td>\n",
       "    </tr>\n",
       "    <tr>\n",
       "      <th>Embarked</th>\n",
       "      <td>object</td>\n",
       "      <td>2</td>\n",
       "      <td>889</td>\n",
       "    </tr>\n",
       "  </tbody>\n",
       "</table>\n",
       "</div>"
      ],
      "text/plain": [
       "                   0  Missing value  Count\n",
       "PassengerId    int64              0    891\n",
       "Survived       int64              0    891\n",
       "Pclass         int64              0    891\n",
       "Name          object              0    891\n",
       "Sex           object              0    891\n",
       "Age          float64            177    714\n",
       "SibSp          int64              0    891\n",
       "Parch          int64              0    891\n",
       "Ticket        object              0    891\n",
       "Fare         float64              0    891\n",
       "Cabin         object            687    204\n",
       "Embarked      object              2    889"
      ]
     },
     "execution_count": 10,
     "metadata": {},
     "output_type": "execute_result"
    }
   ],
   "source": [
    "dataset[\"Count\"] = train.count()\n",
    "dataset"
   ]
  },
  {
   "cell_type": "code",
   "execution_count": 11,
   "id": "radical-practice",
   "metadata": {
    "execution": {
     "iopub.execute_input": "2021-04-02T07:49:37.486431Z",
     "iopub.status.busy": "2021-04-02T07:49:37.485722Z",
     "iopub.status.idle": "2021-04-02T07:49:37.490294Z",
     "shell.execute_reply": "2021-04-02T07:49:37.489625Z"
    },
    "papermill": {
     "duration": 0.062997,
     "end_time": "2021-04-02T07:49:37.490442",
     "exception": false,
     "start_time": "2021-04-02T07:49:37.427445",
     "status": "completed"
    },
    "tags": []
   },
   "outputs": [
    {
     "data": {
      "text/html": [
       "<div>\n",
       "<style scoped>\n",
       "    .dataframe tbody tr th:only-of-type {\n",
       "        vertical-align: middle;\n",
       "    }\n",
       "\n",
       "    .dataframe tbody tr th {\n",
       "        vertical-align: top;\n",
       "    }\n",
       "\n",
       "    .dataframe thead th {\n",
       "        text-align: right;\n",
       "    }\n",
       "</style>\n",
       "<table border=\"1\" class=\"dataframe\">\n",
       "  <thead>\n",
       "    <tr style=\"text-align: right;\">\n",
       "      <th></th>\n",
       "      <th>DataType</th>\n",
       "      <th>Missing value</th>\n",
       "      <th>Count</th>\n",
       "    </tr>\n",
       "  </thead>\n",
       "  <tbody>\n",
       "    <tr>\n",
       "      <th>PassengerId</th>\n",
       "      <td>int64</td>\n",
       "      <td>0</td>\n",
       "      <td>891</td>\n",
       "    </tr>\n",
       "    <tr>\n",
       "      <th>Survived</th>\n",
       "      <td>int64</td>\n",
       "      <td>0</td>\n",
       "      <td>891</td>\n",
       "    </tr>\n",
       "    <tr>\n",
       "      <th>Pclass</th>\n",
       "      <td>int64</td>\n",
       "      <td>0</td>\n",
       "      <td>891</td>\n",
       "    </tr>\n",
       "    <tr>\n",
       "      <th>Name</th>\n",
       "      <td>object</td>\n",
       "      <td>0</td>\n",
       "      <td>891</td>\n",
       "    </tr>\n",
       "    <tr>\n",
       "      <th>Sex</th>\n",
       "      <td>object</td>\n",
       "      <td>0</td>\n",
       "      <td>891</td>\n",
       "    </tr>\n",
       "    <tr>\n",
       "      <th>Age</th>\n",
       "      <td>float64</td>\n",
       "      <td>177</td>\n",
       "      <td>714</td>\n",
       "    </tr>\n",
       "    <tr>\n",
       "      <th>SibSp</th>\n",
       "      <td>int64</td>\n",
       "      <td>0</td>\n",
       "      <td>891</td>\n",
       "    </tr>\n",
       "    <tr>\n",
       "      <th>Parch</th>\n",
       "      <td>int64</td>\n",
       "      <td>0</td>\n",
       "      <td>891</td>\n",
       "    </tr>\n",
       "    <tr>\n",
       "      <th>Ticket</th>\n",
       "      <td>object</td>\n",
       "      <td>0</td>\n",
       "      <td>891</td>\n",
       "    </tr>\n",
       "    <tr>\n",
       "      <th>Fare</th>\n",
       "      <td>float64</td>\n",
       "      <td>0</td>\n",
       "      <td>891</td>\n",
       "    </tr>\n",
       "    <tr>\n",
       "      <th>Cabin</th>\n",
       "      <td>object</td>\n",
       "      <td>687</td>\n",
       "      <td>204</td>\n",
       "    </tr>\n",
       "    <tr>\n",
       "      <th>Embarked</th>\n",
       "      <td>object</td>\n",
       "      <td>2</td>\n",
       "      <td>889</td>\n",
       "    </tr>\n",
       "  </tbody>\n",
       "</table>\n",
       "</div>"
      ],
      "text/plain": [
       "            DataType  Missing value  Count\n",
       "PassengerId    int64              0    891\n",
       "Survived       int64              0    891\n",
       "Pclass         int64              0    891\n",
       "Name          object              0    891\n",
       "Sex           object              0    891\n",
       "Age          float64            177    714\n",
       "SibSp          int64              0    891\n",
       "Parch          int64              0    891\n",
       "Ticket        object              0    891\n",
       "Fare         float64              0    891\n",
       "Cabin         object            687    204\n",
       "Embarked      object              2    889"
      ]
     },
     "execution_count": 11,
     "metadata": {},
     "output_type": "execute_result"
    }
   ],
   "source": [
    "dataset=dataset.rename(columns={0:'DataType'})\n",
    "dataset"
   ]
  },
  {
   "cell_type": "markdown",
   "id": "reasonable-economy",
   "metadata": {
    "papermill": {
     "duration": 0.047809,
     "end_time": "2021-04-02T07:49:37.585597",
     "exception": false,
     "start_time": "2021-04-02T07:49:37.537788",
     "status": "completed"
    },
    "tags": []
   },
   "source": [
    "## Processing testing data"
   ]
  },
  {
   "cell_type": "code",
   "execution_count": 12,
   "id": "assured-credit",
   "metadata": {
    "execution": {
     "iopub.execute_input": "2021-04-02T07:49:37.687626Z",
     "iopub.status.busy": "2021-04-02T07:49:37.686910Z",
     "iopub.status.idle": "2021-04-02T07:49:37.718584Z",
     "shell.execute_reply": "2021-04-02T07:49:37.719066Z"
    },
    "papermill": {
     "duration": 0.083719,
     "end_time": "2021-04-02T07:49:37.719272",
     "exception": false,
     "start_time": "2021-04-02T07:49:37.635553",
     "status": "completed"
    },
    "tags": []
   },
   "outputs": [
    {
     "data": {
      "text/html": [
       "<div>\n",
       "<style scoped>\n",
       "    .dataframe tbody tr th:only-of-type {\n",
       "        vertical-align: middle;\n",
       "    }\n",
       "\n",
       "    .dataframe tbody tr th {\n",
       "        vertical-align: top;\n",
       "    }\n",
       "\n",
       "    .dataframe thead th {\n",
       "        text-align: right;\n",
       "    }\n",
       "</style>\n",
       "<table border=\"1\" class=\"dataframe\">\n",
       "  <thead>\n",
       "    <tr style=\"text-align: right;\">\n",
       "      <th></th>\n",
       "      <th>PassengerId</th>\n",
       "      <th>Pclass</th>\n",
       "      <th>Name</th>\n",
       "      <th>Sex</th>\n",
       "      <th>Age</th>\n",
       "      <th>SibSp</th>\n",
       "      <th>Parch</th>\n",
       "      <th>Ticket</th>\n",
       "      <th>Fare</th>\n",
       "      <th>Cabin</th>\n",
       "      <th>Embarked</th>\n",
       "    </tr>\n",
       "  </thead>\n",
       "  <tbody>\n",
       "    <tr>\n",
       "      <th>0</th>\n",
       "      <td>892</td>\n",
       "      <td>3</td>\n",
       "      <td>Kelly, Mr. James</td>\n",
       "      <td>male</td>\n",
       "      <td>34.5</td>\n",
       "      <td>0</td>\n",
       "      <td>0</td>\n",
       "      <td>330911</td>\n",
       "      <td>7.8292</td>\n",
       "      <td>NaN</td>\n",
       "      <td>Q</td>\n",
       "    </tr>\n",
       "    <tr>\n",
       "      <th>1</th>\n",
       "      <td>893</td>\n",
       "      <td>3</td>\n",
       "      <td>Wilkes, Mrs. James (Ellen Needs)</td>\n",
       "      <td>female</td>\n",
       "      <td>47.0</td>\n",
       "      <td>1</td>\n",
       "      <td>0</td>\n",
       "      <td>363272</td>\n",
       "      <td>7.0000</td>\n",
       "      <td>NaN</td>\n",
       "      <td>S</td>\n",
       "    </tr>\n",
       "    <tr>\n",
       "      <th>2</th>\n",
       "      <td>894</td>\n",
       "      <td>2</td>\n",
       "      <td>Myles, Mr. Thomas Francis</td>\n",
       "      <td>male</td>\n",
       "      <td>62.0</td>\n",
       "      <td>0</td>\n",
       "      <td>0</td>\n",
       "      <td>240276</td>\n",
       "      <td>9.6875</td>\n",
       "      <td>NaN</td>\n",
       "      <td>Q</td>\n",
       "    </tr>\n",
       "    <tr>\n",
       "      <th>3</th>\n",
       "      <td>895</td>\n",
       "      <td>3</td>\n",
       "      <td>Wirz, Mr. Albert</td>\n",
       "      <td>male</td>\n",
       "      <td>27.0</td>\n",
       "      <td>0</td>\n",
       "      <td>0</td>\n",
       "      <td>315154</td>\n",
       "      <td>8.6625</td>\n",
       "      <td>NaN</td>\n",
       "      <td>S</td>\n",
       "    </tr>\n",
       "    <tr>\n",
       "      <th>4</th>\n",
       "      <td>896</td>\n",
       "      <td>3</td>\n",
       "      <td>Hirvonen, Mrs. Alexander (Helga E Lindqvist)</td>\n",
       "      <td>female</td>\n",
       "      <td>22.0</td>\n",
       "      <td>1</td>\n",
       "      <td>1</td>\n",
       "      <td>3101298</td>\n",
       "      <td>12.2875</td>\n",
       "      <td>NaN</td>\n",
       "      <td>S</td>\n",
       "    </tr>\n",
       "  </tbody>\n",
       "</table>\n",
       "</div>"
      ],
      "text/plain": [
       "   PassengerId  Pclass                                          Name     Sex  \\\n",
       "0          892       3                              Kelly, Mr. James    male   \n",
       "1          893       3              Wilkes, Mrs. James (Ellen Needs)  female   \n",
       "2          894       2                     Myles, Mr. Thomas Francis    male   \n",
       "3          895       3                              Wirz, Mr. Albert    male   \n",
       "4          896       3  Hirvonen, Mrs. Alexander (Helga E Lindqvist)  female   \n",
       "\n",
       "    Age  SibSp  Parch   Ticket     Fare Cabin Embarked  \n",
       "0  34.5      0      0   330911   7.8292   NaN        Q  \n",
       "1  47.0      1      0   363272   7.0000   NaN        S  \n",
       "2  62.0      0      0   240276   9.6875   NaN        Q  \n",
       "3  27.0      0      0   315154   8.6625   NaN        S  \n",
       "4  22.0      1      1  3101298  12.2875   NaN        S  "
      ]
     },
     "execution_count": 12,
     "metadata": {},
     "output_type": "execute_result"
    }
   ],
   "source": [
    "test=pd.read_csv(r\"../input/titanic-machine-learning-from-disaster/test.csv\")\n",
    "test.head()"
   ]
  },
  {
   "cell_type": "code",
   "execution_count": 13,
   "id": "disabled-brave",
   "metadata": {
    "execution": {
     "iopub.execute_input": "2021-04-02T07:49:37.821077Z",
     "iopub.status.busy": "2021-04-02T07:49:37.820039Z",
     "iopub.status.idle": "2021-04-02T07:49:37.825140Z",
     "shell.execute_reply": "2021-04-02T07:49:37.824619Z"
    },
    "papermill": {
     "duration": 0.058435,
     "end_time": "2021-04-02T07:49:37.825308",
     "exception": false,
     "start_time": "2021-04-02T07:49:37.766873",
     "status": "completed"
    },
    "tags": []
   },
   "outputs": [
    {
     "data": {
      "text/plain": [
       "(418, 11)"
      ]
     },
     "execution_count": 13,
     "metadata": {},
     "output_type": "execute_result"
    }
   ],
   "source": [
    "test.shape"
   ]
  },
  {
   "cell_type": "code",
   "execution_count": 14,
   "id": "ethical-relations",
   "metadata": {
    "execution": {
     "iopub.execute_input": "2021-04-02T07:49:37.926288Z",
     "iopub.status.busy": "2021-04-02T07:49:37.925259Z",
     "iopub.status.idle": "2021-04-02T07:49:37.941820Z",
     "shell.execute_reply": "2021-04-02T07:49:37.940666Z"
    },
    "papermill": {
     "duration": 0.068375,
     "end_time": "2021-04-02T07:49:37.942000",
     "exception": false,
     "start_time": "2021-04-02T07:49:37.873625",
     "status": "completed"
    },
    "tags": []
   },
   "outputs": [
    {
     "name": "stdout",
     "output_type": "stream",
     "text": [
      "<class 'pandas.core.frame.DataFrame'>\n",
      "RangeIndex: 418 entries, 0 to 417\n",
      "Data columns (total 11 columns):\n",
      " #   Column       Non-Null Count  Dtype  \n",
      "---  ------       --------------  -----  \n",
      " 0   PassengerId  418 non-null    int64  \n",
      " 1   Pclass       418 non-null    int64  \n",
      " 2   Name         418 non-null    object \n",
      " 3   Sex          418 non-null    object \n",
      " 4   Age          332 non-null    float64\n",
      " 5   SibSp        418 non-null    int64  \n",
      " 6   Parch        418 non-null    int64  \n",
      " 7   Ticket       418 non-null    object \n",
      " 8   Fare         417 non-null    float64\n",
      " 9   Cabin        91 non-null     object \n",
      " 10  Embarked     418 non-null    object \n",
      "dtypes: float64(2), int64(4), object(5)\n",
      "memory usage: 36.0+ KB\n"
     ]
    }
   ],
   "source": [
    "test.info()"
   ]
  },
  {
   "cell_type": "code",
   "execution_count": 15,
   "id": "incoming-refund",
   "metadata": {
    "execution": {
     "iopub.execute_input": "2021-04-02T07:49:38.055236Z",
     "iopub.status.busy": "2021-04-02T07:49:38.054234Z",
     "iopub.status.idle": "2021-04-02T07:49:38.058230Z",
     "shell.execute_reply": "2021-04-02T07:49:38.058697Z"
    },
    "papermill": {
     "duration": 0.067039,
     "end_time": "2021-04-02T07:49:38.058891",
     "exception": false,
     "start_time": "2021-04-02T07:49:37.991852",
     "status": "completed"
    },
    "tags": []
   },
   "outputs": [
    {
     "data": {
      "text/plain": [
       "PassengerId      0\n",
       "Pclass           0\n",
       "Name             0\n",
       "Sex              0\n",
       "Age             86\n",
       "SibSp            0\n",
       "Parch            0\n",
       "Ticket           0\n",
       "Fare             1\n",
       "Cabin          327\n",
       "Embarked         0\n",
       "dtype: int64"
      ]
     },
     "execution_count": 15,
     "metadata": {},
     "output_type": "execute_result"
    }
   ],
   "source": [
    "test.isnull().sum()"
   ]
  },
  {
   "cell_type": "markdown",
   "id": "formed-louisiana",
   "metadata": {
    "papermill": {
     "duration": 0.053022,
     "end_time": "2021-04-02T07:49:38.162043",
     "exception": false,
     "start_time": "2021-04-02T07:49:38.109021",
     "status": "completed"
    },
    "tags": []
   },
   "source": [
    "## Data visualizaion for conclusion"
   ]
  },
  {
   "cell_type": "code",
   "execution_count": 16,
   "id": "northern-skill",
   "metadata": {
    "execution": {
     "iopub.execute_input": "2021-04-02T07:49:38.266591Z",
     "iopub.status.busy": "2021-04-02T07:49:38.265591Z",
     "iopub.status.idle": "2021-04-02T07:49:38.396439Z",
     "shell.execute_reply": "2021-04-02T07:49:38.396901Z"
    },
    "papermill": {
     "duration": 0.185528,
     "end_time": "2021-04-02T07:49:38.397081",
     "exception": false,
     "start_time": "2021-04-02T07:49:38.211553",
     "status": "completed"
    },
    "tags": []
   },
   "outputs": [
    {
     "data": {
      "text/plain": [
       "<AxesSubplot:xlabel='Survived', ylabel='count'>"
      ]
     },
     "execution_count": 16,
     "metadata": {},
     "output_type": "execute_result"
    },
    {
     "data": {
      "image/png": "[encoded data removed]",
      "text/plain": [
       "<Figure size 432x288 with 1 Axes>"
      ]
     },
     "metadata": {},
     "output_type": "display_data"
    }
   ],
   "source": [
    "sns.countplot(x=\"Survived\",data=train)"
   ]
  },
  {
   "cell_type": "code",
   "execution_count": 17,
   "id": "violent-startup",
   "metadata": {
    "execution": {
     "iopub.execute_input": "2021-04-02T07:49:38.509441Z",
     "iopub.status.busy": "2021-04-02T07:49:38.508733Z",
     "iopub.status.idle": "2021-04-02T07:49:38.665121Z",
     "shell.execute_reply": "2021-04-02T07:49:38.664437Z"
    },
    "papermill": {
     "duration": 0.215132,
     "end_time": "2021-04-02T07:49:38.665289",
     "exception": false,
     "start_time": "2021-04-02T07:49:38.450157",
     "status": "completed"
    },
    "tags": []
   },
   "outputs": [
    {
     "data": {
      "text/plain": [
       "<AxesSubplot:xlabel='Survived', ylabel='count'>"
      ]
     },
     "execution_count": 17,
     "metadata": {},
     "output_type": "execute_result"
    },
    {
     "data": {
      "image/png": "[encoded data removed]",
      "text/plain": [
       "<Figure size 432x288 with 1 Axes>"
      ]
     },
     "metadata": {},
     "output_type": "display_data"
    }
   ],
   "source": [
    "sns.countplot(x=\"Survived\",hue=\"Sex\",data=train)"
   ]
  },
  {
   "cell_type": "code",
   "execution_count": 18,
   "id": "digital-writing",
   "metadata": {
    "execution": {
     "iopub.execute_input": "2021-04-02T07:49:38.778544Z",
     "iopub.status.busy": "2021-04-02T07:49:38.775623Z",
     "iopub.status.idle": "2021-04-02T07:49:38.984828Z",
     "shell.execute_reply": "2021-04-02T07:49:38.983617Z"
    },
    "papermill": {
     "duration": 0.268137,
     "end_time": "2021-04-02T07:49:38.985014",
     "exception": false,
     "start_time": "2021-04-02T07:49:38.716877",
     "status": "completed"
    },
    "tags": []
   },
   "outputs": [
    {
     "data": {
      "text/plain": [
       "<AxesSubplot:xlabel='Survived', ylabel='count'>"
      ]
     },
     "execution_count": 18,
     "metadata": {},
     "output_type": "execute_result"
    },
    {
     "data": {
      "image/png": "[encoded data removed]",
      "text/plain": [
       "<Figure size 432x288 with 1 Axes>"
      ]
     },
     "metadata": {},
     "output_type": "display_data"
    }
   ],
   "source": [
    "sns.countplot(x=\"Survived\",hue=\"Pclass\",data=train)"
   ]
  },
  {
   "cell_type": "code",
   "execution_count": 19,
   "id": "coastal-biodiversity",
   "metadata": {
    "execution": {
     "iopub.execute_input": "2021-04-02T07:49:39.122381Z",
     "iopub.status.busy": "2021-04-02T07:49:39.099619Z",
     "iopub.status.idle": "2021-04-02T07:49:39.288608Z",
     "shell.execute_reply": "2021-04-02T07:49:39.287974Z"
    },
    "papermill": {
     "duration": 0.248952,
     "end_time": "2021-04-02T07:49:39.288788",
     "exception": false,
     "start_time": "2021-04-02T07:49:39.039836",
     "status": "completed"
    },
    "tags": []
   },
   "outputs": [
    {
     "data": {
      "text/plain": [
       "<AxesSubplot:xlabel='Pclass', ylabel='count'>"
      ]
     },
     "execution_count": 19,
     "metadata": {},
     "output_type": "execute_result"
    },
    {
     "data": {
      "image/png": "[encoded data removed]",
      "text/plain": [
       "<Figure size 432x288 with 1 Axes>"
      ]
     },
     "metadata": {},
     "output_type": "display_data"
    }
   ],
   "source": [
    "sns.countplot(x=\"Pclass\",hue=\"Sex\",data=train)"
   ]
  },
  {
   "cell_type": "markdown",
   "id": "traditional-communications",
   "metadata": {
    "papermill": {
     "duration": 0.053707,
     "end_time": "2021-04-02T07:49:39.398959",
     "exception": false,
     "start_time": "2021-04-02T07:49:39.345252",
     "status": "completed"
    },
    "tags": []
   },
   "source": [
    "Mid observations\n",
    "\n",
    "1) We can see female had a higher survived rate rather then male.\n",
    "\n",
    "2) We can see people in Pclass - 1 has a higher survied rate rather then other Pclasses.\n",
    "\n",
    "3) The number of male in Pclass-3 supered the number of feamle. This might be a reason why male's survived rate was lower then female's rate."
   ]
  },
  {
   "cell_type": "code",
   "execution_count": 20,
   "id": "liked-conflict",
   "metadata": {
    "execution": {
     "iopub.execute_input": "2021-04-02T07:49:39.516887Z",
     "iopub.status.busy": "2021-04-02T07:49:39.516132Z",
     "iopub.status.idle": "2021-04-02T07:49:39.759564Z",
     "shell.execute_reply": "2021-04-02T07:49:39.758782Z"
    },
    "papermill": {
     "duration": 0.30495,
     "end_time": "2021-04-02T07:49:39.759719",
     "exception": false,
     "start_time": "2021-04-02T07:49:39.454769",
     "status": "completed"
    },
    "tags": []
   },
   "outputs": [
    {
     "data": {
      "text/plain": [
       "<AxesSubplot:xlabel='Survived', ylabel='count'>"
      ]
     },
     "execution_count": 20,
     "metadata": {},
     "output_type": "execute_result"
    },
    {
     "data": {
      "image/png": "[encoded data removed]",
      "text/plain": [
       "<Figure size 432x288 with 1 Axes>"
      ]
     },
     "metadata": {},
     "output_type": "display_data"
    }
   ],
   "source": [
    "sns.countplot(x=\"Survived\",hue=\"SibSp\",data=train)"
   ]
  },
  {
   "cell_type": "code",
   "execution_count": 21,
   "id": "north-thinking",
   "metadata": {
    "execution": {
     "iopub.execute_input": "2021-04-02T07:49:39.880883Z",
     "iopub.status.busy": "2021-04-02T07:49:39.880215Z",
     "iopub.status.idle": "2021-04-02T07:49:40.104719Z",
     "shell.execute_reply": "2021-04-02T07:49:40.104014Z"
    },
    "papermill": {
     "duration": 0.286807,
     "end_time": "2021-04-02T07:49:40.104875",
     "exception": false,
     "start_time": "2021-04-02T07:49:39.818068",
     "status": "completed"
    },
    "tags": []
   },
   "outputs": [
    {
     "data": {
      "text/plain": [
       "<AxesSubplot:xlabel='Survived', ylabel='count'>"
      ]
     },
     "execution_count": 21,
     "metadata": {},
     "output_type": "execute_result"
    },
    {
     "data": {
      "image/png": "[encoded data removed]",
      "text/plain": [
       "<Figure size 432x288 with 1 Axes>"
      ]
     },
     "metadata": {},
     "output_type": "display_data"
    }
   ],
   "source": [
    "sns.countplot(x=\"Survived\",hue=\"Parch\",data=train)"
   ]
  },
  {
   "cell_type": "code",
   "execution_count": 22,
   "id": "defined-continent",
   "metadata": {
    "execution": {
     "iopub.execute_input": "2021-04-02T07:49:40.226788Z",
     "iopub.status.busy": "2021-04-02T07:49:40.225903Z",
     "iopub.status.idle": "2021-04-02T07:49:40.441283Z",
     "shell.execute_reply": "2021-04-02T07:49:40.441772Z"
    },
    "papermill": {
     "duration": 0.28074,
     "end_time": "2021-04-02T07:49:40.442074",
     "exception": false,
     "start_time": "2021-04-02T07:49:40.161334",
     "status": "completed"
    },
    "tags": []
   },
   "outputs": [
    {
     "data": {
      "text/plain": [
       "<AxesSubplot:xlabel='Sex', ylabel='count'>"
      ]
     },
     "execution_count": 22,
     "metadata": {},
     "output_type": "execute_result"
    },
    {
     "data": {
      "image/png": "[encoded data removed]",
      "text/plain": [
       "<Figure size 432x288 with 1 Axes>"
      ]
     },
     "metadata": {},
     "output_type": "display_data"
    }
   ],
   "source": [
    "sns.countplot(x=\"Sex\",hue=\"Parch\",data=train)"
   ]
  },
  {
   "cell_type": "markdown",
   "id": "freelance-identifier",
   "metadata": {
    "papermill": {
     "duration": 0.057812,
     "end_time": "2021-04-02T07:49:40.559728",
     "exception": false,
     "start_time": "2021-04-02T07:49:40.501916",
     "status": "completed"
    },
    "tags": []
   },
   "source": [
    "Mid observations\n",
    "\n",
    "1) People who do not have family or siblings were more likely to survive.\n",
    "\n",
    "2) However, the one who does not have sibilings or family were mostly male. But, suprisingly, male's casualty was higher then female's one."
   ]
  },
  {
   "cell_type": "code",
   "execution_count": 23,
   "id": "respiratory-oxide",
   "metadata": {
    "execution": {
     "iopub.execute_input": "2021-04-02T07:49:40.685176Z",
     "iopub.status.busy": "2021-04-02T07:49:40.680355Z",
     "iopub.status.idle": "2021-04-02T07:49:40.869905Z",
     "shell.execute_reply": "2021-04-02T07:49:40.870500Z"
    },
    "papermill": {
     "duration": 0.253415,
     "end_time": "2021-04-02T07:49:40.870742",
     "exception": false,
     "start_time": "2021-04-02T07:49:40.617327",
     "status": "completed"
    },
    "tags": []
   },
   "outputs": [
    {
     "data": {
      "text/plain": [
       "<AxesSubplot:xlabel='Survived', ylabel='count'>"
      ]
     },
     "execution_count": 23,
     "metadata": {},
     "output_type": "execute_result"
    },
    {
     "data": {
      "image/png": "[encoded data removed]",
      "text/plain": [
       "<Figure size 432x288 with 1 Axes>"
      ]
     },
     "metadata": {},
     "output_type": "display_data"
    }
   ],
   "source": [
    "sns.countplot(x=\"Survived\",hue=\"Embarked\",data=train)"
   ]
  },
  {
   "cell_type": "code",
   "execution_count": 24,
   "id": "progressive-sauce",
   "metadata": {
    "execution": {
     "iopub.execute_input": "2021-04-02T07:49:41.002160Z",
     "iopub.status.busy": "2021-04-02T07:49:41.001134Z",
     "iopub.status.idle": "2021-04-02T07:49:41.201209Z",
     "shell.execute_reply": "2021-04-02T07:49:41.200544Z"
    },
    "papermill": {
     "duration": 0.267218,
     "end_time": "2021-04-02T07:49:41.201350",
     "exception": false,
     "start_time": "2021-04-02T07:49:40.934132",
     "status": "completed"
    },
    "tags": []
   },
   "outputs": [
    {
     "data": {
      "text/plain": [
       "<AxesSubplot:xlabel='Pclass', ylabel='Age'>"
      ]
     },
     "execution_count": 24,
     "metadata": {},
     "output_type": "execute_result"
    },
    {
     "data": {
      "image/png": "[encoded data removed]",
      "text/plain": [
       "<Figure size 432x288 with 1 Axes>"
      ]
     },
     "metadata": {},
     "output_type": "display_data"
    }
   ],
   "source": [
    "sns.boxplot(x=\"Pclass\",y=\"Age\",data=train)"
   ]
  },
  {
   "cell_type": "markdown",
   "id": "documentary-phase",
   "metadata": {
    "papermill": {
     "duration": 0.060597,
     "end_time": "2021-04-02T07:49:41.324453",
     "exception": false,
     "start_time": "2021-04-02T07:49:41.263856",
     "status": "completed"
    },
    "tags": []
   },
   "source": [
    "Mid observation\n",
    "\n",
    "1) People who embarked from S had higher survived rate compared to others.\n",
    "\n",
    "2) People who embarked from S were usually more older then others."
   ]
  },
  {
   "cell_type": "code",
   "execution_count": 25,
   "id": "opposite-header",
   "metadata": {
    "execution": {
     "iopub.execute_input": "2021-04-02T07:49:41.459062Z",
     "iopub.status.busy": "2021-04-02T07:49:41.456690Z",
     "iopub.status.idle": "2021-04-02T07:49:41.715877Z",
     "shell.execute_reply": "2021-04-02T07:49:41.716431Z"
    },
    "papermill": {
     "duration": 0.32872,
     "end_time": "2021-04-02T07:49:41.716609",
     "exception": false,
     "start_time": "2021-04-02T07:49:41.387889",
     "status": "completed"
    },
    "tags": []
   },
   "outputs": [
    {
     "data": {
      "image/png": "[encoded data removed]",
      "text/plain": [
       "<Figure size 432x288 with 1 Axes>"
      ]
     },
     "metadata": {},
     "output_type": "display_data"
    }
   ],
   "source": [
    "sns.barplot(x=\"Pclass\",y=\"Survived\",data=train)\n",
    "plt.ylabel(\"survival rate\")\n",
    "plt.xlabel(\"Pclass\")\n",
    "plt.show()"
   ]
  },
  {
   "cell_type": "markdown",
   "id": "actual-jordan",
   "metadata": {
    "papermill": {
     "duration": 0.06026,
     "end_time": "2021-04-02T07:49:41.839159",
     "exception": false,
     "start_time": "2021-04-02T07:49:41.778899",
     "status": "completed"
    },
    "tags": []
   },
   "source": [
    "## Dealing with null values"
   ]
  },
  {
   "cell_type": "markdown",
   "id": "loaded-kazakhstan",
   "metadata": {
    "papermill": {
     "duration": 0.062634,
     "end_time": "2021-04-02T07:49:41.962716",
     "exception": false,
     "start_time": "2021-04-02T07:49:41.900082",
     "status": "completed"
    },
    "tags": []
   },
   "source": [
    "Now, I am going to do 2 ways to dealing with these null values\n",
    "\n",
    "First, **Age** is dealed with by the strategy shown from [YLT609](https://www.kaggle.com/ylt0609/3-strategies-analyzing-age-and-their-impact). Simply just removing age features which gives more percise outputs.\n",
    "\n",
    "Second, **Cabin** is important said by many others. But, it is so robust that I have no idea how to deal with using Cabin. So I am going to simply remove cabin features.\n"
   ]
  },
  {
   "cell_type": "markdown",
   "id": "several-touch",
   "metadata": {
    "papermill": {
     "duration": 0.063551,
     "end_time": "2021-04-02T07:49:42.089603",
     "exception": false,
     "start_time": "2021-04-02T07:49:42.026052",
     "status": "completed"
    },
    "tags": []
   },
   "source": [
    "## Dealing with Missing Ages"
   ]
  },
  {
   "cell_type": "code",
   "execution_count": 26,
   "id": "rural-arctic",
   "metadata": {
    "execution": {
     "iopub.execute_input": "2021-04-02T07:49:42.216017Z",
     "iopub.status.busy": "2021-04-02T07:49:42.215008Z",
     "iopub.status.idle": "2021-04-02T07:49:42.535445Z",
     "shell.execute_reply": "2021-04-02T07:49:42.535955Z"
    },
    "papermill": {
     "duration": 0.3849,
     "end_time": "2021-04-02T07:49:42.536162",
     "exception": false,
     "start_time": "2021-04-02T07:49:42.151262",
     "status": "completed"
    },
    "tags": []
   },
   "outputs": [
    {
     "data": {
      "text/plain": [
       "<AxesSubplot:>"
      ]
     },
     "execution_count": 26,
     "metadata": {},
     "output_type": "execute_result"
    },
    {
     "data": {
      "image/png": "[encoded data removed]",
      "text/plain": [
       "<Figure size 432x288 with 2 Axes>"
      ]
     },
     "metadata": {},
     "output_type": "display_data"
    }
   ],
   "source": [
    "sns.heatmap(train.isnull(),yticklabels=False,cbar=True,cmap=\"rainbow_r\")"
   ]
  },
  {
   "cell_type": "code",
   "execution_count": 27,
   "id": "perceived-florida",
   "metadata": {
    "execution": {
     "iopub.execute_input": "2021-04-02T07:49:42.665069Z",
     "iopub.status.busy": "2021-04-02T07:49:42.664343Z",
     "iopub.status.idle": "2021-04-02T07:49:42.682430Z",
     "shell.execute_reply": "2021-04-02T07:49:42.682970Z"
    },
    "papermill": {
     "duration": 0.084453,
     "end_time": "2021-04-02T07:49:42.683160",
     "exception": false,
     "start_time": "2021-04-02T07:49:42.598707",
     "status": "completed"
    },
    "tags": []
   },
   "outputs": [],
   "source": [
    "#dropping the column cabin and age\n",
    "train.drop(\"Cabin\",axis=1,inplace=True)\n",
    "test.drop(\"Cabin\",axis=1,inplace=True)\n",
    "train.drop(\"Age\",axis=1,inplace=True)\n",
    "test.drop(\"Age\",axis=1,inplace=True)\n",
    "train.drop(\"Fare\",axis=1,inplace=True)\n",
    "test.drop(\"Fare\",axis=1,inplace=True)"
   ]
  },
  {
   "cell_type": "code",
   "execution_count": 28,
   "id": "necessary-devices",
   "metadata": {
    "execution": {
     "iopub.execute_input": "2021-04-02T07:49:42.812383Z",
     "iopub.status.busy": "2021-04-02T07:49:42.811716Z",
     "iopub.status.idle": "2021-04-02T07:49:42.818288Z",
     "shell.execute_reply": "2021-04-02T07:49:42.818841Z"
    },
    "papermill": {
     "duration": 0.072658,
     "end_time": "2021-04-02T07:49:42.819027",
     "exception": false,
     "start_time": "2021-04-02T07:49:42.746369",
     "status": "completed"
    },
    "tags": []
   },
   "outputs": [],
   "source": [
    "train[\"Embarked\"].fillna(train[\"Embarked\"].value_counts().index[0], inplace=True)"
   ]
  },
  {
   "cell_type": "code",
   "execution_count": 29,
   "id": "collected-invention",
   "metadata": {
    "execution": {
     "iopub.execute_input": "2021-04-02T07:49:42.949311Z",
     "iopub.status.busy": "2021-04-02T07:49:42.948575Z",
     "iopub.status.idle": "2021-04-02T07:49:43.402493Z",
     "shell.execute_reply": "2021-04-02T07:49:43.401891Z"
    },
    "papermill": {
     "duration": 0.519676,
     "end_time": "2021-04-02T07:49:43.402635",
     "exception": false,
     "start_time": "2021-04-02T07:49:42.882959",
     "status": "completed"
    },
    "tags": []
   },
   "outputs": [
    {
     "data": {
      "text/plain": [
       "<AxesSubplot:>"
      ]
     },
     "execution_count": 29,
     "metadata": {},
     "output_type": "execute_result"
    },
    {
     "data": {
      "image/png": "[encoded data removed]",
      "text/plain": [
       "<Figure size 432x288 with 2 Axes>"
      ]
     },
     "metadata": {},
     "output_type": "display_data"
    }
   ],
   "source": [
    "# check if there is any other null values\n",
    "sns.heatmap(train.isnull(),yticklabels=False,cbar=True,cmap=\"rainbow_r\")"
   ]
  },
  {
   "cell_type": "code",
   "execution_count": 30,
   "id": "chief-group",
   "metadata": {
    "execution": {
     "iopub.execute_input": "2021-04-02T07:49:43.539402Z",
     "iopub.status.busy": "2021-04-02T07:49:43.538597Z",
     "iopub.status.idle": "2021-04-02T07:49:43.543331Z",
     "shell.execute_reply": "2021-04-02T07:49:43.542600Z"
    },
    "papermill": {
     "duration": 0.07695,
     "end_time": "2021-04-02T07:49:43.543484",
     "exception": false,
     "start_time": "2021-04-02T07:49:43.466534",
     "status": "completed"
    },
    "tags": []
   },
   "outputs": [
    {
     "data": {
      "text/plain": [
       "PassengerId    0\n",
       "Survived       0\n",
       "Pclass         0\n",
       "Name           0\n",
       "Sex            0\n",
       "SibSp          0\n",
       "Parch          0\n",
       "Ticket         0\n",
       "Embarked       0\n",
       "dtype: int64"
      ]
     },
     "execution_count": 30,
     "metadata": {},
     "output_type": "execute_result"
    }
   ],
   "source": [
    "train.isnull().sum()"
   ]
  },
  {
   "cell_type": "code",
   "execution_count": 31,
   "id": "intermediate-supervision",
   "metadata": {
    "execution": {
     "iopub.execute_input": "2021-04-02T07:49:43.685408Z",
     "iopub.status.busy": "2021-04-02T07:49:43.684690Z",
     "iopub.status.idle": "2021-04-02T07:49:43.689146Z",
     "shell.execute_reply": "2021-04-02T07:49:43.688521Z"
    },
    "papermill": {
     "duration": 0.080077,
     "end_time": "2021-04-02T07:49:43.689305",
     "exception": false,
     "start_time": "2021-04-02T07:49:43.609228",
     "status": "completed"
    },
    "tags": []
   },
   "outputs": [
    {
     "data": {
      "text/plain": [
       "PassengerId    0\n",
       "Pclass         0\n",
       "Name           0\n",
       "Sex            0\n",
       "SibSp          0\n",
       "Parch          0\n",
       "Ticket         0\n",
       "Embarked       0\n",
       "dtype: int64"
      ]
     },
     "execution_count": 31,
     "metadata": {},
     "output_type": "execute_result"
    }
   ],
   "source": [
    "test.isnull().sum()"
   ]
  },
  {
   "cell_type": "markdown",
   "id": "widespread-cheese",
   "metadata": {
    "papermill": {
     "duration": 0.065303,
     "end_time": "2021-04-02T07:49:43.819296",
     "exception": false,
     "start_time": "2021-04-02T07:49:43.753993",
     "status": "completed"
    },
    "tags": []
   },
   "source": [
    "## Categorical to numerical columns"
   ]
  },
  {
   "cell_type": "code",
   "execution_count": 32,
   "id": "anonymous-iraqi",
   "metadata": {
    "execution": {
     "iopub.execute_input": "2021-04-02T07:49:43.963979Z",
     "iopub.status.busy": "2021-04-02T07:49:43.962867Z",
     "iopub.status.idle": "2021-04-02T07:49:43.970987Z",
     "shell.execute_reply": "2021-04-02T07:49:43.970248Z"
    },
    "papermill": {
     "duration": 0.08268,
     "end_time": "2021-04-02T07:49:43.971139",
     "exception": false,
     "start_time": "2021-04-02T07:49:43.888459",
     "status": "completed"
    },
    "tags": []
   },
   "outputs": [],
   "source": [
    "sex = pd.get_dummies(train[\"Sex\"])\n",
    "sex1 = pd.get_dummies(test[\"Sex\"])\n",
    "\n",
    "embarked = pd.get_dummies(train[\"Embarked\"])\n",
    "embarked1 = pd.get_dummies(test[\"Embarked\"])"
   ]
  },
  {
   "cell_type": "code",
   "execution_count": 33,
   "id": "economic-stylus",
   "metadata": {
    "execution": {
     "iopub.execute_input": "2021-04-02T07:49:44.110713Z",
     "iopub.status.busy": "2021-04-02T07:49:44.110008Z",
     "iopub.status.idle": "2021-04-02T07:49:44.128699Z",
     "shell.execute_reply": "2021-04-02T07:49:44.127984Z"
    },
    "papermill": {
     "duration": 0.091113,
     "end_time": "2021-04-02T07:49:44.128845",
     "exception": false,
     "start_time": "2021-04-02T07:49:44.037732",
     "status": "completed"
    },
    "tags": []
   },
   "outputs": [
    {
     "data": {
      "text/html": [
       "<div>\n",
       "<style scoped>\n",
       "    .dataframe tbody tr th:only-of-type {\n",
       "        vertical-align: middle;\n",
       "    }\n",
       "\n",
       "    .dataframe tbody tr th {\n",
       "        vertical-align: top;\n",
       "    }\n",
       "\n",
       "    .dataframe thead th {\n",
       "        text-align: right;\n",
       "    }\n",
       "</style>\n",
       "<table border=\"1\" class=\"dataframe\">\n",
       "  <thead>\n",
       "    <tr style=\"text-align: right;\">\n",
       "      <th></th>\n",
       "      <th>PassengerId</th>\n",
       "      <th>Survived</th>\n",
       "      <th>Pclass</th>\n",
       "      <th>Name</th>\n",
       "      <th>Sex</th>\n",
       "      <th>SibSp</th>\n",
       "      <th>Parch</th>\n",
       "      <th>Ticket</th>\n",
       "      <th>Embarked</th>\n",
       "      <th>female</th>\n",
       "      <th>male</th>\n",
       "      <th>C</th>\n",
       "      <th>Q</th>\n",
       "      <th>S</th>\n",
       "    </tr>\n",
       "  </thead>\n",
       "  <tbody>\n",
       "    <tr>\n",
       "      <th>0</th>\n",
       "      <td>1</td>\n",
       "      <td>0</td>\n",
       "      <td>3</td>\n",
       "      <td>Braund, Mr. Owen Harris</td>\n",
       "      <td>male</td>\n",
       "      <td>1</td>\n",
       "      <td>0</td>\n",
       "      <td>A/5 21171</td>\n",
       "      <td>S</td>\n",
       "      <td>0</td>\n",
       "      <td>1</td>\n",
       "      <td>0</td>\n",
       "      <td>0</td>\n",
       "      <td>1</td>\n",
       "    </tr>\n",
       "    <tr>\n",
       "      <th>1</th>\n",
       "      <td>2</td>\n",
       "      <td>1</td>\n",
       "      <td>1</td>\n",
       "      <td>Cumings, Mrs. John Bradley (Florence Briggs Th...</td>\n",
       "      <td>female</td>\n",
       "      <td>1</td>\n",
       "      <td>0</td>\n",
       "      <td>PC 17599</td>\n",
       "      <td>C</td>\n",
       "      <td>1</td>\n",
       "      <td>0</td>\n",
       "      <td>1</td>\n",
       "      <td>0</td>\n",
       "      <td>0</td>\n",
       "    </tr>\n",
       "    <tr>\n",
       "      <th>2</th>\n",
       "      <td>3</td>\n",
       "      <td>1</td>\n",
       "      <td>3</td>\n",
       "      <td>Heikkinen, Miss. Laina</td>\n",
       "      <td>female</td>\n",
       "      <td>0</td>\n",
       "      <td>0</td>\n",
       "      <td>STON/O2. 3101282</td>\n",
       "      <td>S</td>\n",
       "      <td>1</td>\n",
       "      <td>0</td>\n",
       "      <td>0</td>\n",
       "      <td>0</td>\n",
       "      <td>1</td>\n",
       "    </tr>\n",
       "    <tr>\n",
       "      <th>3</th>\n",
       "      <td>4</td>\n",
       "      <td>1</td>\n",
       "      <td>1</td>\n",
       "      <td>Futrelle, Mrs. Jacques Heath (Lily May Peel)</td>\n",
       "      <td>female</td>\n",
       "      <td>1</td>\n",
       "      <td>0</td>\n",
       "      <td>113803</td>\n",
       "      <td>S</td>\n",
       "      <td>1</td>\n",
       "      <td>0</td>\n",
       "      <td>0</td>\n",
       "      <td>0</td>\n",
       "      <td>1</td>\n",
       "    </tr>\n",
       "    <tr>\n",
       "      <th>4</th>\n",
       "      <td>5</td>\n",
       "      <td>0</td>\n",
       "      <td>3</td>\n",
       "      <td>Allen, Mr. William Henry</td>\n",
       "      <td>male</td>\n",
       "      <td>0</td>\n",
       "      <td>0</td>\n",
       "      <td>373450</td>\n",
       "      <td>S</td>\n",
       "      <td>0</td>\n",
       "      <td>1</td>\n",
       "      <td>0</td>\n",
       "      <td>0</td>\n",
       "      <td>1</td>\n",
       "    </tr>\n",
       "  </tbody>\n",
       "</table>\n",
       "</div>"
      ],
      "text/plain": [
       "   PassengerId  Survived  Pclass  \\\n",
       "0            1         0       3   \n",
       "1            2         1       1   \n",
       "2            3         1       3   \n",
       "3            4         1       1   \n",
       "4            5         0       3   \n",
       "\n",
       "                                                Name     Sex  SibSp  Parch  \\\n",
       "0                            Braund, Mr. Owen Harris    male      1      0   \n",
       "1  Cumings, Mrs. John Bradley (Florence Briggs Th...  female      1      0   \n",
       "2                             Heikkinen, Miss. Laina  female      0      0   \n",
       "3       Futrelle, Mrs. Jacques Heath (Lily May Peel)  female      1      0   \n",
       "4                           Allen, Mr. William Henry    male      0      0   \n",
       "\n",
       "             Ticket Embarked  female  male  C  Q  S  \n",
       "0         A/5 21171        S       0     1  0  0  1  \n",
       "1          PC 17599        C       1     0  1  0  0  \n",
       "2  STON/O2. 3101282        S       1     0  0  0  1  \n",
       "3            113803        S       1     0  0  0  1  \n",
       "4            373450        S       0     1  0  0  1  "
      ]
     },
     "execution_count": 33,
     "metadata": {},
     "output_type": "execute_result"
    }
   ],
   "source": [
    "train=pd.concat([train,sex,embarked],axis=1)\n",
    "train.head()"
   ]
  },
  {
   "cell_type": "code",
   "execution_count": 34,
   "id": "minus-pendant",
   "metadata": {
    "execution": {
     "iopub.execute_input": "2021-04-02T07:49:44.270659Z",
     "iopub.status.busy": "2021-04-02T07:49:44.269989Z",
     "iopub.status.idle": "2021-04-02T07:49:44.283795Z",
     "shell.execute_reply": "2021-04-02T07:49:44.283080Z"
    },
    "papermill": {
     "duration": 0.086645,
     "end_time": "2021-04-02T07:49:44.283942",
     "exception": false,
     "start_time": "2021-04-02T07:49:44.197297",
     "status": "completed"
    },
    "tags": []
   },
   "outputs": [
    {
     "data": {
      "text/html": [
       "<div>\n",
       "<style scoped>\n",
       "    .dataframe tbody tr th:only-of-type {\n",
       "        vertical-align: middle;\n",
       "    }\n",
       "\n",
       "    .dataframe tbody tr th {\n",
       "        vertical-align: top;\n",
       "    }\n",
       "\n",
       "    .dataframe thead th {\n",
       "        text-align: right;\n",
       "    }\n",
       "</style>\n",
       "<table border=\"1\" class=\"dataframe\">\n",
       "  <thead>\n",
       "    <tr style=\"text-align: right;\">\n",
       "      <th></th>\n",
       "      <th>PassengerId</th>\n",
       "      <th>Survived</th>\n",
       "      <th>Pclass</th>\n",
       "      <th>SibSp</th>\n",
       "      <th>Parch</th>\n",
       "      <th>female</th>\n",
       "      <th>male</th>\n",
       "      <th>C</th>\n",
       "      <th>Q</th>\n",
       "      <th>S</th>\n",
       "    </tr>\n",
       "  </thead>\n",
       "  <tbody>\n",
       "    <tr>\n",
       "      <th>0</th>\n",
       "      <td>1</td>\n",
       "      <td>0</td>\n",
       "      <td>3</td>\n",
       "      <td>1</td>\n",
       "      <td>0</td>\n",
       "      <td>0</td>\n",
       "      <td>1</td>\n",
       "      <td>0</td>\n",
       "      <td>0</td>\n",
       "      <td>1</td>\n",
       "    </tr>\n",
       "    <tr>\n",
       "      <th>1</th>\n",
       "      <td>2</td>\n",
       "      <td>1</td>\n",
       "      <td>1</td>\n",
       "      <td>1</td>\n",
       "      <td>0</td>\n",
       "      <td>1</td>\n",
       "      <td>0</td>\n",
       "      <td>1</td>\n",
       "      <td>0</td>\n",
       "      <td>0</td>\n",
       "    </tr>\n",
       "    <tr>\n",
       "      <th>2</th>\n",
       "      <td>3</td>\n",
       "      <td>1</td>\n",
       "      <td>3</td>\n",
       "      <td>0</td>\n",
       "      <td>0</td>\n",
       "      <td>1</td>\n",
       "      <td>0</td>\n",
       "      <td>0</td>\n",
       "      <td>0</td>\n",
       "      <td>1</td>\n",
       "    </tr>\n",
       "    <tr>\n",
       "      <th>3</th>\n",
       "      <td>4</td>\n",
       "      <td>1</td>\n",
       "      <td>1</td>\n",
       "      <td>1</td>\n",
       "      <td>0</td>\n",
       "      <td>1</td>\n",
       "      <td>0</td>\n",
       "      <td>0</td>\n",
       "      <td>0</td>\n",
       "      <td>1</td>\n",
       "    </tr>\n",
       "    <tr>\n",
       "      <th>4</th>\n",
       "      <td>5</td>\n",
       "      <td>0</td>\n",
       "      <td>3</td>\n",
       "      <td>0</td>\n",
       "      <td>0</td>\n",
       "      <td>0</td>\n",
       "      <td>1</td>\n",
       "      <td>0</td>\n",
       "      <td>0</td>\n",
       "      <td>1</td>\n",
       "    </tr>\n",
       "  </tbody>\n",
       "</table>\n",
       "</div>"
      ],
      "text/plain": [
       "   PassengerId  Survived  Pclass  SibSp  Parch  female  male  C  Q  S\n",
       "0            1         0       3      1      0       0     1  0  0  1\n",
       "1            2         1       1      1      0       1     0  1  0  0\n",
       "2            3         1       3      0      0       1     0  0  0  1\n",
       "3            4         1       1      1      0       1     0  0  0  1\n",
       "4            5         0       3      0      0       0     1  0  0  1"
      ]
     },
     "execution_count": 34,
     "metadata": {},
     "output_type": "execute_result"
    }
   ],
   "source": [
    "train.drop([\"Sex\",\"Embarked\",\"Ticket\",\"Name\"],axis=1,inplace=True)\n",
    "train.head()"
   ]
  },
  {
   "cell_type": "code",
   "execution_count": 35,
   "id": "engaged-retailer",
   "metadata": {
    "execution": {
     "iopub.execute_input": "2021-04-02T07:49:44.430099Z",
     "iopub.status.busy": "2021-04-02T07:49:44.428674Z",
     "iopub.status.idle": "2021-04-02T07:49:44.445984Z",
     "shell.execute_reply": "2021-04-02T07:49:44.445288Z"
    },
    "papermill": {
     "duration": 0.093917,
     "end_time": "2021-04-02T07:49:44.446137",
     "exception": false,
     "start_time": "2021-04-02T07:49:44.352220",
     "status": "completed"
    },
    "tags": []
   },
   "outputs": [
    {
     "data": {
      "text/html": [
       "<div>\n",
       "<style scoped>\n",
       "    .dataframe tbody tr th:only-of-type {\n",
       "        vertical-align: middle;\n",
       "    }\n",
       "\n",
       "    .dataframe tbody tr th {\n",
       "        vertical-align: top;\n",
       "    }\n",
       "\n",
       "    .dataframe thead th {\n",
       "        text-align: right;\n",
       "    }\n",
       "</style>\n",
       "<table border=\"1\" class=\"dataframe\">\n",
       "  <thead>\n",
       "    <tr style=\"text-align: right;\">\n",
       "      <th></th>\n",
       "      <th>PassengerId</th>\n",
       "      <th>Pclass</th>\n",
       "      <th>Name</th>\n",
       "      <th>Sex</th>\n",
       "      <th>SibSp</th>\n",
       "      <th>Parch</th>\n",
       "      <th>Ticket</th>\n",
       "      <th>Embarked</th>\n",
       "      <th>female</th>\n",
       "      <th>male</th>\n",
       "      <th>C</th>\n",
       "      <th>Q</th>\n",
       "      <th>S</th>\n",
       "    </tr>\n",
       "  </thead>\n",
       "  <tbody>\n",
       "    <tr>\n",
       "      <th>0</th>\n",
       "      <td>892</td>\n",
       "      <td>3</td>\n",
       "      <td>Kelly, Mr. James</td>\n",
       "      <td>male</td>\n",
       "      <td>0</td>\n",
       "      <td>0</td>\n",
       "      <td>330911</td>\n",
       "      <td>Q</td>\n",
       "      <td>0</td>\n",
       "      <td>1</td>\n",
       "      <td>0</td>\n",
       "      <td>1</td>\n",
       "      <td>0</td>\n",
       "    </tr>\n",
       "    <tr>\n",
       "      <th>1</th>\n",
       "      <td>893</td>\n",
       "      <td>3</td>\n",
       "      <td>Wilkes, Mrs. James (Ellen Needs)</td>\n",
       "      <td>female</td>\n",
       "      <td>1</td>\n",
       "      <td>0</td>\n",
       "      <td>363272</td>\n",
       "      <td>S</td>\n",
       "      <td>1</td>\n",
       "      <td>0</td>\n",
       "      <td>0</td>\n",
       "      <td>0</td>\n",
       "      <td>1</td>\n",
       "    </tr>\n",
       "    <tr>\n",
       "      <th>2</th>\n",
       "      <td>894</td>\n",
       "      <td>2</td>\n",
       "      <td>Myles, Mr. Thomas Francis</td>\n",
       "      <td>male</td>\n",
       "      <td>0</td>\n",
       "      <td>0</td>\n",
       "      <td>240276</td>\n",
       "      <td>Q</td>\n",
       "      <td>0</td>\n",
       "      <td>1</td>\n",
       "      <td>0</td>\n",
       "      <td>1</td>\n",
       "      <td>0</td>\n",
       "    </tr>\n",
       "    <tr>\n",
       "      <th>3</th>\n",
       "      <td>895</td>\n",
       "      <td>3</td>\n",
       "      <td>Wirz, Mr. Albert</td>\n",
       "      <td>male</td>\n",
       "      <td>0</td>\n",
       "      <td>0</td>\n",
       "      <td>315154</td>\n",
       "      <td>S</td>\n",
       "      <td>0</td>\n",
       "      <td>1</td>\n",
       "      <td>0</td>\n",
       "      <td>0</td>\n",
       "      <td>1</td>\n",
       "    </tr>\n",
       "    <tr>\n",
       "      <th>4</th>\n",
       "      <td>896</td>\n",
       "      <td>3</td>\n",
       "      <td>Hirvonen, Mrs. Alexander (Helga E Lindqvist)</td>\n",
       "      <td>female</td>\n",
       "      <td>1</td>\n",
       "      <td>1</td>\n",
       "      <td>3101298</td>\n",
       "      <td>S</td>\n",
       "      <td>1</td>\n",
       "      <td>0</td>\n",
       "      <td>0</td>\n",
       "      <td>0</td>\n",
       "      <td>1</td>\n",
       "    </tr>\n",
       "  </tbody>\n",
       "</table>\n",
       "</div>"
      ],
      "text/plain": [
       "   PassengerId  Pclass                                          Name     Sex  \\\n",
       "0          892       3                              Kelly, Mr. James    male   \n",
       "1          893       3              Wilkes, Mrs. James (Ellen Needs)  female   \n",
       "2          894       2                     Myles, Mr. Thomas Francis    male   \n",
       "3          895       3                              Wirz, Mr. Albert    male   \n",
       "4          896       3  Hirvonen, Mrs. Alexander (Helga E Lindqvist)  female   \n",
       "\n",
       "   SibSp  Parch   Ticket Embarked  female  male  C  Q  S  \n",
       "0      0      0   330911        Q       0     1  0  1  0  \n",
       "1      1      0   363272        S       1     0  0  0  1  \n",
       "2      0      0   240276        Q       0     1  0  1  0  \n",
       "3      0      0   315154        S       0     1  0  0  1  \n",
       "4      1      1  3101298        S       1     0  0  0  1  "
      ]
     },
     "execution_count": 35,
     "metadata": {},
     "output_type": "execute_result"
    }
   ],
   "source": [
    "test=pd.concat([test,sex1,embarked1],axis=1)\n",
    "test.head()"
   ]
  },
  {
   "cell_type": "code",
   "execution_count": 36,
   "id": "changed-madison",
   "metadata": {
    "execution": {
     "iopub.execute_input": "2021-04-02T07:49:44.600539Z",
     "iopub.status.busy": "2021-04-02T07:49:44.599542Z",
     "iopub.status.idle": "2021-04-02T07:49:44.604111Z",
     "shell.execute_reply": "2021-04-02T07:49:44.604648Z"
    },
    "papermill": {
     "duration": 0.092123,
     "end_time": "2021-04-02T07:49:44.604838",
     "exception": false,
     "start_time": "2021-04-02T07:49:44.512715",
     "status": "completed"
    },
    "tags": []
   },
   "outputs": [
    {
     "data": {
      "text/html": [
       "<div>\n",
       "<style scoped>\n",
       "    .dataframe tbody tr th:only-of-type {\n",
       "        vertical-align: middle;\n",
       "    }\n",
       "\n",
       "    .dataframe tbody tr th {\n",
       "        vertical-align: top;\n",
       "    }\n",
       "\n",
       "    .dataframe thead th {\n",
       "        text-align: right;\n",
       "    }\n",
       "</style>\n",
       "<table border=\"1\" class=\"dataframe\">\n",
       "  <thead>\n",
       "    <tr style=\"text-align: right;\">\n",
       "      <th></th>\n",
       "      <th>PassengerId</th>\n",
       "      <th>Pclass</th>\n",
       "      <th>SibSp</th>\n",
       "      <th>Parch</th>\n",
       "      <th>female</th>\n",
       "      <th>male</th>\n",
       "      <th>C</th>\n",
       "      <th>Q</th>\n",
       "      <th>S</th>\n",
       "    </tr>\n",
       "  </thead>\n",
       "  <tbody>\n",
       "    <tr>\n",
       "      <th>0</th>\n",
       "      <td>892</td>\n",
       "      <td>3</td>\n",
       "      <td>0</td>\n",
       "      <td>0</td>\n",
       "      <td>0</td>\n",
       "      <td>1</td>\n",
       "      <td>0</td>\n",
       "      <td>1</td>\n",
       "      <td>0</td>\n",
       "    </tr>\n",
       "    <tr>\n",
       "      <th>1</th>\n",
       "      <td>893</td>\n",
       "      <td>3</td>\n",
       "      <td>1</td>\n",
       "      <td>0</td>\n",
       "      <td>1</td>\n",
       "      <td>0</td>\n",
       "      <td>0</td>\n",
       "      <td>0</td>\n",
       "      <td>1</td>\n",
       "    </tr>\n",
       "    <tr>\n",
       "      <th>2</th>\n",
       "      <td>894</td>\n",
       "      <td>2</td>\n",
       "      <td>0</td>\n",
       "      <td>0</td>\n",
       "      <td>0</td>\n",
       "      <td>1</td>\n",
       "      <td>0</td>\n",
       "      <td>1</td>\n",
       "      <td>0</td>\n",
       "    </tr>\n",
       "    <tr>\n",
       "      <th>3</th>\n",
       "      <td>895</td>\n",
       "      <td>3</td>\n",
       "      <td>0</td>\n",
       "      <td>0</td>\n",
       "      <td>0</td>\n",
       "      <td>1</td>\n",
       "      <td>0</td>\n",
       "      <td>0</td>\n",
       "      <td>1</td>\n",
       "    </tr>\n",
       "    <tr>\n",
       "      <th>4</th>\n",
       "      <td>896</td>\n",
       "      <td>3</td>\n",
       "      <td>1</td>\n",
       "      <td>1</td>\n",
       "      <td>1</td>\n",
       "      <td>0</td>\n",
       "      <td>0</td>\n",
       "      <td>0</td>\n",
       "      <td>1</td>\n",
       "    </tr>\n",
       "  </tbody>\n",
       "</table>\n",
       "</div>"
      ],
      "text/plain": [
       "   PassengerId  Pclass  SibSp  Parch  female  male  C  Q  S\n",
       "0          892       3      0      0       0     1  0  1  0\n",
       "1          893       3      1      0       1     0  0  0  1\n",
       "2          894       2      0      0       0     1  0  1  0\n",
       "3          895       3      0      0       0     1  0  0  1\n",
       "4          896       3      1      1       1     0  0  0  1"
      ]
     },
     "execution_count": 36,
     "metadata": {},
     "output_type": "execute_result"
    }
   ],
   "source": [
    "test.drop([\"Sex\",\"Embarked\",\"Ticket\",\"Name\"],axis=1,inplace=True)\n",
    "test.head()"
   ]
  },
  {
   "cell_type": "markdown",
   "id": "upset-waters",
   "metadata": {
    "papermill": {
     "duration": 0.067251,
     "end_time": "2021-04-02T07:49:44.742273",
     "exception": false,
     "start_time": "2021-04-02T07:49:44.675022",
     "status": "completed"
    },
    "tags": []
   },
   "source": [
    "## Split the dat for test"
   ]
  },
  {
   "cell_type": "code",
   "execution_count": 37,
   "id": "weighted-class",
   "metadata": {
    "execution": {
     "iopub.execute_input": "2021-04-02T07:49:44.888829Z",
     "iopub.status.busy": "2021-04-02T07:49:44.888114Z",
     "iopub.status.idle": "2021-04-02T07:49:45.166716Z",
     "shell.execute_reply": "2021-04-02T07:49:45.166008Z"
    },
    "papermill": {
     "duration": 0.354979,
     "end_time": "2021-04-02T07:49:45.166876",
     "exception": false,
     "start_time": "2021-04-02T07:49:44.811897",
     "status": "completed"
    },
    "tags": []
   },
   "outputs": [],
   "source": [
    "from sklearn.model_selection import train_test_split\n",
    "x_train,x_test,y_train,y_test=train_test_split(train.drop(\"Survived\",axis=1),train[\"Survived\"],test_size=0.2,random_state=5)"
   ]
  },
  {
   "cell_type": "markdown",
   "id": "italic-cookie",
   "metadata": {
    "papermill": {
     "duration": 0.068948,
     "end_time": "2021-04-02T07:49:45.303254",
     "exception": false,
     "start_time": "2021-04-02T07:49:45.234306",
     "status": "completed"
    },
    "tags": []
   },
   "source": [
    "## Logistic Regression"
   ]
  },
  {
   "cell_type": "code",
   "execution_count": 38,
   "id": "southwest-adelaide",
   "metadata": {
    "execution": {
     "iopub.execute_input": "2021-04-02T07:49:45.445150Z",
     "iopub.status.busy": "2021-04-02T07:49:45.444412Z",
     "iopub.status.idle": "2021-04-02T07:49:45.692433Z",
     "shell.execute_reply": "2021-04-02T07:49:45.693107Z"
    },
    "papermill": {
     "duration": 0.321608,
     "end_time": "2021-04-02T07:49:45.693323",
     "exception": false,
     "start_time": "2021-04-02T07:49:45.371715",
     "status": "completed"
    },
    "tags": []
   },
   "outputs": [
    {
     "data": {
      "text/plain": [
       "LogisticRegression(max_iter=1000)"
      ]
     },
     "execution_count": 38,
     "metadata": {},
     "output_type": "execute_result"
    }
   ],
   "source": [
    "#import packages\n",
    "from sklearn.linear_model import LogisticRegression\n",
    "#call the function\n",
    "model1=LogisticRegression(max_iter=1000)\n",
    "#train it\n",
    "model1.fit(x_train,y_train)"
   ]
  },
  {
   "cell_type": "code",
   "execution_count": 39,
   "id": "downtown-flashing",
   "metadata": {
    "execution": {
     "iopub.execute_input": "2021-04-02T07:49:45.837790Z",
     "iopub.status.busy": "2021-04-02T07:49:45.837124Z",
     "iopub.status.idle": "2021-04-02T07:49:45.841114Z",
     "shell.execute_reply": "2021-04-02T07:49:45.840463Z"
    },
    "papermill": {
     "duration": 0.078724,
     "end_time": "2021-04-02T07:49:45.841274",
     "exception": false,
     "start_time": "2021-04-02T07:49:45.762550",
     "status": "completed"
    },
    "tags": []
   },
   "outputs": [],
   "source": [
    "pred1=model1.predict(x_test)"
   ]
  },
  {
   "cell_type": "code",
   "execution_count": 40,
   "id": "white-treasury",
   "metadata": {
    "execution": {
     "iopub.execute_input": "2021-04-02T07:49:45.991580Z",
     "iopub.status.busy": "2021-04-02T07:49:45.990446Z",
     "iopub.status.idle": "2021-04-02T07:49:45.995140Z",
     "shell.execute_reply": "2021-04-02T07:49:45.994489Z"
    },
    "papermill": {
     "duration": 0.083543,
     "end_time": "2021-04-02T07:49:45.995306",
     "exception": false,
     "start_time": "2021-04-02T07:49:45.911763",
     "status": "completed"
    },
    "tags": []
   },
   "outputs": [
    {
     "data": {
      "text/plain": [
       "0.8156424581005587"
      ]
     },
     "execution_count": 40,
     "metadata": {},
     "output_type": "execute_result"
    }
   ],
   "source": [
    "from sklearn.metrics import accuracy_score,confusion_matrix,classification_report\n",
    "accuracy1=accuracy_score(y_test,pred1)\n",
    "accuracy1"
   ]
  },
  {
   "cell_type": "code",
   "execution_count": 41,
   "id": "meaning-innocent",
   "metadata": {
    "execution": {
     "iopub.execute_input": "2021-04-02T07:49:46.146027Z",
     "iopub.status.busy": "2021-04-02T07:49:46.142542Z",
     "iopub.status.idle": "2021-04-02T07:49:46.151661Z",
     "shell.execute_reply": "2021-04-02T07:49:46.150962Z"
    },
    "papermill": {
     "duration": 0.083648,
     "end_time": "2021-04-02T07:49:46.151807",
     "exception": false,
     "start_time": "2021-04-02T07:49:46.068159",
     "status": "completed"
    },
    "tags": []
   },
   "outputs": [
    {
     "data": {
      "text/plain": [
       "array([[99, 12],\n",
       "       [21, 47]])"
      ]
     },
     "execution_count": 41,
     "metadata": {},
     "output_type": "execute_result"
    }
   ],
   "source": [
    "confusion_matrix(y_test,pred1)"
   ]
  },
  {
   "cell_type": "markdown",
   "id": "prescribed-oklahoma",
   "metadata": {
    "papermill": {
     "duration": 0.072132,
     "end_time": "2021-04-02T07:49:46.293485",
     "exception": false,
     "start_time": "2021-04-02T07:49:46.221353",
     "status": "completed"
    },
    "tags": []
   },
   "source": [
    "## SVM"
   ]
  },
  {
   "cell_type": "code",
   "execution_count": 42,
   "id": "statistical-support",
   "metadata": {
    "execution": {
     "iopub.execute_input": "2021-04-02T07:49:46.439591Z",
     "iopub.status.busy": "2021-04-02T07:49:46.438293Z",
     "iopub.status.idle": "2021-04-02T07:49:46.441409Z",
     "shell.execute_reply": "2021-04-02T07:49:46.441874Z"
    },
    "papermill": {
     "duration": 0.078032,
     "end_time": "2021-04-02T07:49:46.442063",
     "exception": false,
     "start_time": "2021-04-02T07:49:46.364031",
     "status": "completed"
    },
    "tags": []
   },
   "outputs": [],
   "source": [
    "from sklearn.model_selection import GridSearchCV\n",
    "from sklearn.svm import SVC\n",
    "\n",
    "model = SVC()"
   ]
  },
  {
   "cell_type": "code",
   "execution_count": 43,
   "id": "modified-breast",
   "metadata": {
    "execution": {
     "iopub.execute_input": "2021-04-02T07:49:46.585299Z",
     "iopub.status.busy": "2021-04-02T07:49:46.584282Z",
     "iopub.status.idle": "2021-04-02T07:49:46.589759Z",
     "shell.execute_reply": "2021-04-02T07:49:46.590270Z"
    },
    "papermill": {
     "duration": 0.078771,
     "end_time": "2021-04-02T07:49:46.590477",
     "exception": false,
     "start_time": "2021-04-02T07:49:46.511706",
     "status": "completed"
    },
    "tags": []
   },
   "outputs": [],
   "source": [
    "grid_param = {'C': [0.1,1, 10, 100, 1000],'gamma':[1,0.1,0.01,0.001,0.0001],'kernel': ['rbf']}\n",
    "grid = GridSearchCV(SVC(),grid_param,verbose=3)"
   ]
  },
  {
   "cell_type": "code",
   "execution_count": 44,
   "id": "fitting-corruption",
   "metadata": {
    "execution": {
     "iopub.execute_input": "2021-04-02T07:49:46.738042Z",
     "iopub.status.busy": "2021-04-02T07:49:46.737085Z",
     "iopub.status.idle": "2021-04-02T07:49:52.490761Z",
     "shell.execute_reply": "2021-04-02T07:49:52.491351Z"
    },
    "papermill": {
     "duration": 5.827777,
     "end_time": "2021-04-02T07:49:52.491568",
     "exception": false,
     "start_time": "2021-04-02T07:49:46.663791",
     "status": "completed"
    },
    "tags": []
   },
   "outputs": [
    {
     "name": "stdout",
     "output_type": "stream",
     "text": [
      "Fitting 5 folds for each of 25 candidates, totalling 125 fits\n",
      "[CV 1/5] END .....................C=0.1, gamma=1, kernel=rbf; total time=   0.0s\n",
      "[CV 2/5] END .....................C=0.1, gamma=1, kernel=rbf; total time=   0.0s\n",
      "[CV 3/5] END .....................C=0.1, gamma=1, kernel=rbf; total time=   0.0s\n",
      "[CV 4/5] END .....................C=0.1, gamma=1, kernel=rbf; total time=   0.0s\n",
      "[CV 5/5] END .....................C=0.1, gamma=1, kernel=rbf; total time=   0.0s\n",
      "[CV 1/5] END ...................C=0.1, gamma=0.1, kernel=rbf; total time=   0.0s\n",
      "[CV 2/5] END ...................C=0.1, gamma=0.1, kernel=rbf; total time=   0.0s\n",
      "[CV 3/5] END ...................C=0.1, gamma=0.1, kernel=rbf; total time=   0.0s\n",
      "[CV 4/5] END ...................C=0.1, gamma=0.1, kernel=rbf; total time=   0.0s\n",
      "[CV 5/5] END ...................C=0.1, gamma=0.1, kernel=rbf; total time=   0.0s\n",
      "[CV 1/5] END ..................C=0.1, gamma=0.01, kernel=rbf; total time=   0.0s\n",
      "[CV 2/5] END ..................C=0.1, gamma=0.01, kernel=rbf; total time=   0.0s\n",
      "[CV 3/5] END ..................C=0.1, gamma=0.01, kernel=rbf; total time=   0.0s\n",
      "[CV 4/5] END ..................C=0.1, gamma=0.01, kernel=rbf; total time=   0.0s\n",
      "[CV 5/5] END ..................C=0.1, gamma=0.01, kernel=rbf; total time=   0.0s\n",
      "[CV 1/5] END .................C=0.1, gamma=0.001, kernel=rbf; total time=   0.0s\n",
      "[CV 2/5] END .................C=0.1, gamma=0.001, kernel=rbf; total time=   0.0s\n",
      "[CV 3/5] END .................C=0.1, gamma=0.001, kernel=rbf; total time=   0.0s\n",
      "[CV 4/5] END .................C=0.1, gamma=0.001, kernel=rbf; total time=   0.0s\n",
      "[CV 5/5] END .................C=0.1, gamma=0.001, kernel=rbf; total time=   0.0s\n",
      "[CV 1/5] END ................C=0.1, gamma=0.0001, kernel=rbf; total time=   0.0s\n",
      "[CV 2/5] END ................C=0.1, gamma=0.0001, kernel=rbf; total time=   0.0s\n",
      "[CV 3/5] END ................C=0.1, gamma=0.0001, kernel=rbf; total time=   0.0s\n",
      "[CV 4/5] END ................C=0.1, gamma=0.0001, kernel=rbf; total time=   0.0s\n",
      "[CV 5/5] END ................C=0.1, gamma=0.0001, kernel=rbf; total time=   0.0s\n",
      "[CV 1/5] END .......................C=1, gamma=1, kernel=rbf; total time=   0.0s\n",
      "[CV 2/5] END .......................C=1, gamma=1, kernel=rbf; total time=   0.0s\n",
      "[CV 3/5] END .......................C=1, gamma=1, kernel=rbf; total time=   0.0s\n",
      "[CV 4/5] END .......................C=1, gamma=1, kernel=rbf; total time=   0.0s\n",
      "[CV 5/5] END .......................C=1, gamma=1, kernel=rbf; total time=   0.0s\n",
      "[CV 1/5] END .....................C=1, gamma=0.1, kernel=rbf; total time=   0.0s\n",
      "[CV 2/5] END .....................C=1, gamma=0.1, kernel=rbf; total time=   0.0s\n",
      "[CV 3/5] END .....................C=1, gamma=0.1, kernel=rbf; total time=   0.0s\n",
      "[CV 4/5] END .....................C=1, gamma=0.1, kernel=rbf; total time=   0.0s\n",
      "[CV 5/5] END .....................C=1, gamma=0.1, kernel=rbf; total time=   0.0s\n",
      "[CV 1/5] END ....................C=1, gamma=0.01, kernel=rbf; total time=   0.0s\n",
      "[CV 2/5] END ....................C=1, gamma=0.01, kernel=rbf; total time=   0.0s\n",
      "[CV 3/5] END ....................C=1, gamma=0.01, kernel=rbf; total time=   0.0s\n",
      "[CV 4/5] END ....................C=1, gamma=0.01, kernel=rbf; total time=   0.0s\n",
      "[CV 5/5] END ....................C=1, gamma=0.01, kernel=rbf; total time=   0.0s\n",
      "[CV 1/5] END ...................C=1, gamma=0.001, kernel=rbf; total time=   0.0s\n",
      "[CV 2/5] END ...................C=1, gamma=0.001, kernel=rbf; total time=   0.0s\n",
      "[CV 3/5] END ...................C=1, gamma=0.001, kernel=rbf; total time=   0.0s\n",
      "[CV 4/5] END ...................C=1, gamma=0.001, kernel=rbf; total time=   0.0s\n",
      "[CV 5/5] END ...................C=1, gamma=0.001, kernel=rbf; total time=   0.0s\n",
      "[CV 1/5] END ..................C=1, gamma=0.0001, kernel=rbf; total time=   0.0s\n",
      "[CV 2/5] END ..................C=1, gamma=0.0001, kernel=rbf; total time=   0.0s\n",
      "[CV 3/5] END ..................C=1, gamma=0.0001, kernel=rbf; total time=   0.0s\n",
      "[CV 4/5] END ..................C=1, gamma=0.0001, kernel=rbf; total time=   0.0s\n",
      "[CV 5/5] END ..................C=1, gamma=0.0001, kernel=rbf; total time=   0.0s\n",
      "[CV 1/5] END ......................C=10, gamma=1, kernel=rbf; total time=   0.0s\n",
      "[CV 2/5] END ......................C=10, gamma=1, kernel=rbf; total time=   0.0s\n",
      "[CV 3/5] END ......................C=10, gamma=1, kernel=rbf; total time=   0.0s\n",
      "[CV 4/5] END ......................C=10, gamma=1, kernel=rbf; total time=   0.0s\n",
      "[CV 5/5] END ......................C=10, gamma=1, kernel=rbf; total time=   0.0s\n",
      "[CV 1/5] END ....................C=10, gamma=0.1, kernel=rbf; total time=   0.0s\n",
      "[CV 2/5] END ....................C=10, gamma=0.1, kernel=rbf; total time=   0.0s\n",
      "[CV 3/5] END ....................C=10, gamma=0.1, kernel=rbf; total time=   0.0s\n",
      "[CV 4/5] END ....................C=10, gamma=0.1, kernel=rbf; total time=   0.0s\n",
      "[CV 5/5] END ....................C=10, gamma=0.1, kernel=rbf; total time=   0.0s\n",
      "[CV 1/5] END ...................C=10, gamma=0.01, kernel=rbf; total time=   0.0s\n",
      "[CV 2/5] END ...................C=10, gamma=0.01, kernel=rbf; total time=   0.0s\n",
      "[CV 3/5] END ...................C=10, gamma=0.01, kernel=rbf; total time=   0.0s\n",
      "[CV 4/5] END ...................C=10, gamma=0.01, kernel=rbf; total time=   0.0s\n",
      "[CV 5/5] END ...................C=10, gamma=0.01, kernel=rbf; total time=   0.0s\n",
      "[CV 1/5] END ..................C=10, gamma=0.001, kernel=rbf; total time=   0.0s\n",
      "[CV 2/5] END ..................C=10, gamma=0.001, kernel=rbf; total time=   0.0s\n",
      "[CV 3/5] END ..................C=10, gamma=0.001, kernel=rbf; total time=   0.0s\n",
      "[CV 4/5] END ..................C=10, gamma=0.001, kernel=rbf; total time=   0.0s\n",
      "[CV 5/5] END ..................C=10, gamma=0.001, kernel=rbf; total time=   0.0s\n",
      "[CV 1/5] END .................C=10, gamma=0.0001, kernel=rbf; total time=   0.0s\n",
      "[CV 2/5] END .................C=10, gamma=0.0001, kernel=rbf; total time=   0.0s\n",
      "[CV 3/5] END .................C=10, gamma=0.0001, kernel=rbf; total time=   0.0s\n",
      "[CV 4/5] END .................C=10, gamma=0.0001, kernel=rbf; total time=   0.0s\n",
      "[CV 5/5] END .................C=10, gamma=0.0001, kernel=rbf; total time=   0.0s\n",
      "[CV 1/5] END .....................C=100, gamma=1, kernel=rbf; total time=   0.0s\n",
      "[CV 2/5] END .....................C=100, gamma=1, kernel=rbf; total time=   0.0s\n",
      "[CV 3/5] END .....................C=100, gamma=1, kernel=rbf; total time=   0.0s\n",
      "[CV 4/5] END .....................C=100, gamma=1, kernel=rbf; total time=   0.0s\n",
      "[CV 5/5] END .....................C=100, gamma=1, kernel=rbf; total time=   0.0s\n",
      "[CV 1/5] END ...................C=100, gamma=0.1, kernel=rbf; total time=   0.0s\n",
      "[CV 2/5] END ...................C=100, gamma=0.1, kernel=rbf; total time=   0.0s\n",
      "[CV 3/5] END ...................C=100, gamma=0.1, kernel=rbf; total time=   0.0s\n",
      "[CV 4/5] END ...................C=100, gamma=0.1, kernel=rbf; total time=   0.0s\n",
      "[CV 5/5] END ...................C=100, gamma=0.1, kernel=rbf; total time=   0.0s\n",
      "[CV 1/5] END ..................C=100, gamma=0.01, kernel=rbf; total time=   0.0s\n",
      "[CV 2/5] END ..................C=100, gamma=0.01, kernel=rbf; total time=   0.1s\n",
      "[CV 3/5] END ..................C=100, gamma=0.01, kernel=rbf; total time=   0.1s\n",
      "[CV 4/5] END ..................C=100, gamma=0.01, kernel=rbf; total time=   0.0s\n",
      "[CV 5/5] END ..................C=100, gamma=0.01, kernel=rbf; total time=   0.0s\n",
      "[CV 1/5] END .................C=100, gamma=0.001, kernel=rbf; total time=   0.1s\n",
      "[CV 2/5] END .................C=100, gamma=0.001, kernel=rbf; total time=   0.0s\n",
      "[CV 3/5] END .................C=100, gamma=0.001, kernel=rbf; total time=   0.1s\n",
      "[CV 4/5] END .................C=100, gamma=0.001, kernel=rbf; total time=   0.1s\n",
      "[CV 5/5] END .................C=100, gamma=0.001, kernel=rbf; total time=   0.1s\n",
      "[CV 1/5] END ................C=100, gamma=0.0001, kernel=rbf; total time=   0.0s\n",
      "[CV 2/5] END ................C=100, gamma=0.0001, kernel=rbf; total time=   0.0s\n",
      "[CV 3/5] END ................C=100, gamma=0.0001, kernel=rbf; total time=   0.0s\n",
      "[CV 4/5] END ................C=100, gamma=0.0001, kernel=rbf; total time=   0.0s\n",
      "[CV 5/5] END ................C=100, gamma=0.0001, kernel=rbf; total time=   0.0s\n",
      "[CV 1/5] END ....................C=1000, gamma=1, kernel=rbf; total time=   0.0s\n",
      "[CV 2/5] END ....................C=1000, gamma=1, kernel=rbf; total time=   0.0s\n",
      "[CV 3/5] END ....................C=1000, gamma=1, kernel=rbf; total time=   0.0s\n",
      "[CV 4/5] END ....................C=1000, gamma=1, kernel=rbf; total time=   0.0s\n",
      "[CV 5/5] END ....................C=1000, gamma=1, kernel=rbf; total time=   0.0s\n",
      "[CV 1/5] END ..................C=1000, gamma=0.1, kernel=rbf; total time=   0.0s\n",
      "[CV 2/5] END ..................C=1000, gamma=0.1, kernel=rbf; total time=   0.0s\n",
      "[CV 3/5] END ..................C=1000, gamma=0.1, kernel=rbf; total time=   0.0s\n",
      "[CV 4/5] END ..................C=1000, gamma=0.1, kernel=rbf; total time=   0.0s\n",
      "[CV 5/5] END ..................C=1000, gamma=0.1, kernel=rbf; total time=   0.0s\n",
      "[CV 1/5] END .................C=1000, gamma=0.01, kernel=rbf; total time=   0.1s\n",
      "[CV 2/5] END .................C=1000, gamma=0.01, kernel=rbf; total time=   0.1s\n",
      "[CV 3/5] END .................C=1000, gamma=0.01, kernel=rbf; total time=   0.1s\n",
      "[CV 4/5] END .................C=1000, gamma=0.01, kernel=rbf; total time=   0.1s\n",
      "[CV 5/5] END .................C=1000, gamma=0.01, kernel=rbf; total time=   0.1s\n",
      "[CV 1/5] END ................C=1000, gamma=0.001, kernel=rbf; total time=   0.1s\n",
      "[CV 2/5] END ................C=1000, gamma=0.001, kernel=rbf; total time=   0.1s\n",
      "[CV 3/5] END ................C=1000, gamma=0.001, kernel=rbf; total time=   0.1s\n",
      "[CV 4/5] END ................C=1000, gamma=0.001, kernel=rbf; total time=   0.1s\n",
      "[CV 5/5] END ................C=1000, gamma=0.001, kernel=rbf; total time=   0.2s\n",
      "[CV 1/5] END ...............C=1000, gamma=0.0001, kernel=rbf; total time=   0.1s\n",
      "[CV 2/5] END ...............C=1000, gamma=0.0001, kernel=rbf; total time=   0.1s\n",
      "[CV 3/5] END ...............C=1000, gamma=0.0001, kernel=rbf; total time=   0.1s\n",
      "[CV 4/5] END ...............C=1000, gamma=0.0001, kernel=rbf; total time=   0.2s\n",
      "[CV 5/5] END ...............C=1000, gamma=0.0001, kernel=rbf; total time=   0.2s\n"
     ]
    },
    {
     "data": {
      "text/plain": [
       "GridSearchCV(estimator=SVC(),\n",
       "             param_grid={'C': [0.1, 1, 10, 100, 1000],\n",
       "                         'gamma': [1, 0.1, 0.01, 0.001, 0.0001],\n",
       "                         'kernel': ['rbf']},\n",
       "             verbose=3)"
      ]
     },
     "execution_count": 44,
     "metadata": {},
     "output_type": "execute_result"
    }
   ],
   "source": [
    "grid.fit(x_train,y_train)"
   ]
  },
  {
   "cell_type": "code",
   "execution_count": 45,
   "id": "sophisticated-scope",
   "metadata": {
    "execution": {
     "iopub.execute_input": "2021-04-02T07:49:52.666836Z",
     "iopub.status.busy": "2021-04-02T07:49:52.665737Z",
     "iopub.status.idle": "2021-04-02T07:49:52.671083Z",
     "shell.execute_reply": "2021-04-02T07:49:52.670172Z"
    },
    "papermill": {
     "duration": 0.096788,
     "end_time": "2021-04-02T07:49:52.671272",
     "exception": false,
     "start_time": "2021-04-02T07:49:52.574484",
     "status": "completed"
    },
    "tags": []
   },
   "outputs": [
    {
     "data": {
      "text/plain": [
       "{'C': 1000, 'gamma': 0.0001, 'kernel': 'rbf'}"
      ]
     },
     "execution_count": 45,
     "metadata": {},
     "output_type": "execute_result"
    }
   ],
   "source": [
    "grid.best_params_"
   ]
  },
  {
   "cell_type": "code",
   "execution_count": 46,
   "id": "sustainable-lighting",
   "metadata": {
    "execution": {
     "iopub.execute_input": "2021-04-02T07:49:52.840029Z",
     "iopub.status.busy": "2021-04-02T07:49:52.839019Z",
     "iopub.status.idle": "2021-04-02T07:49:52.849711Z",
     "shell.execute_reply": "2021-04-02T07:49:52.849100Z"
    },
    "papermill": {
     "duration": 0.098266,
     "end_time": "2021-04-02T07:49:52.849858",
     "exception": false,
     "start_time": "2021-04-02T07:49:52.751592",
     "status": "completed"
    },
    "tags": []
   },
   "outputs": [],
   "source": [
    "pred4 = grid.predict(x_test)"
   ]
  },
  {
   "cell_type": "code",
   "execution_count": 47,
   "id": "knowing-aurora",
   "metadata": {
    "execution": {
     "iopub.execute_input": "2021-04-02T07:49:53.017557Z",
     "iopub.status.busy": "2021-04-02T07:49:53.016815Z",
     "iopub.status.idle": "2021-04-02T07:49:53.021460Z",
     "shell.execute_reply": "2021-04-02T07:49:53.020786Z"
    },
    "papermill": {
     "duration": 0.091857,
     "end_time": "2021-04-02T07:49:53.021608",
     "exception": false,
     "start_time": "2021-04-02T07:49:52.929751",
     "status": "completed"
    },
    "tags": []
   },
   "outputs": [
    {
     "data": {
      "text/plain": [
       "0.7877094972067039"
      ]
     },
     "execution_count": 47,
     "metadata": {},
     "output_type": "execute_result"
    }
   ],
   "source": [
    "accuracy4=accuracy_score(y_test,pred4)\n",
    "accuracy4"
   ]
  },
  {
   "cell_type": "code",
   "execution_count": 48,
   "id": "standard-senate",
   "metadata": {
    "execution": {
     "iopub.execute_input": "2021-04-02T07:49:53.196040Z",
     "iopub.status.busy": "2021-04-02T07:49:53.194905Z",
     "iopub.status.idle": "2021-04-02T07:49:53.200627Z",
     "shell.execute_reply": "2021-04-02T07:49:53.199928Z"
    },
    "papermill": {
     "duration": 0.093975,
     "end_time": "2021-04-02T07:49:53.200778",
     "exception": false,
     "start_time": "2021-04-02T07:49:53.106803",
     "status": "completed"
    },
    "tags": []
   },
   "outputs": [
    {
     "data": {
      "text/plain": [
       "array([[95, 16],\n",
       "       [22, 46]])"
      ]
     },
     "execution_count": 48,
     "metadata": {},
     "output_type": "execute_result"
    }
   ],
   "source": [
    "confusion_matrix(y_test,pred4)"
   ]
  },
  {
   "cell_type": "code",
   "execution_count": 49,
   "id": "prescription-genre",
   "metadata": {
    "execution": {
     "iopub.execute_input": "2021-04-02T07:49:53.379060Z",
     "iopub.status.busy": "2021-04-02T07:49:53.374767Z",
     "iopub.status.idle": "2021-04-02T07:49:53.383961Z",
     "shell.execute_reply": "2021-04-02T07:49:53.383281Z"
    },
    "papermill": {
     "duration": 0.102778,
     "end_time": "2021-04-02T07:49:53.384106",
     "exception": false,
     "start_time": "2021-04-02T07:49:53.281328",
     "status": "completed"
    },
    "tags": []
   },
   "outputs": [
    {
     "data": {
      "text/html": [
       "<div>\n",
       "<style scoped>\n",
       "    .dataframe tbody tr th:only-of-type {\n",
       "        vertical-align: middle;\n",
       "    }\n",
       "\n",
       "    .dataframe tbody tr th {\n",
       "        vertical-align: top;\n",
       "    }\n",
       "\n",
       "    .dataframe thead th {\n",
       "        text-align: right;\n",
       "    }\n",
       "</style>\n",
       "<table border=\"1\" class=\"dataframe\">\n",
       "  <thead>\n",
       "    <tr style=\"text-align: right;\">\n",
       "      <th></th>\n",
       "      <th>PassengerId</th>\n",
       "      <th>Pclass</th>\n",
       "      <th>SibSp</th>\n",
       "      <th>Parch</th>\n",
       "      <th>female</th>\n",
       "      <th>male</th>\n",
       "      <th>C</th>\n",
       "      <th>Q</th>\n",
       "      <th>S</th>\n",
       "    </tr>\n",
       "  </thead>\n",
       "  <tbody>\n",
       "    <tr>\n",
       "      <th>0</th>\n",
       "      <td>892</td>\n",
       "      <td>3</td>\n",
       "      <td>0</td>\n",
       "      <td>0</td>\n",
       "      <td>0</td>\n",
       "      <td>1</td>\n",
       "      <td>0</td>\n",
       "      <td>1</td>\n",
       "      <td>0</td>\n",
       "    </tr>\n",
       "    <tr>\n",
       "      <th>1</th>\n",
       "      <td>893</td>\n",
       "      <td>3</td>\n",
       "      <td>1</td>\n",
       "      <td>0</td>\n",
       "      <td>1</td>\n",
       "      <td>0</td>\n",
       "      <td>0</td>\n",
       "      <td>0</td>\n",
       "      <td>1</td>\n",
       "    </tr>\n",
       "    <tr>\n",
       "      <th>2</th>\n",
       "      <td>894</td>\n",
       "      <td>2</td>\n",
       "      <td>0</td>\n",
       "      <td>0</td>\n",
       "      <td>0</td>\n",
       "      <td>1</td>\n",
       "      <td>0</td>\n",
       "      <td>1</td>\n",
       "      <td>0</td>\n",
       "    </tr>\n",
       "    <tr>\n",
       "      <th>3</th>\n",
       "      <td>895</td>\n",
       "      <td>3</td>\n",
       "      <td>0</td>\n",
       "      <td>0</td>\n",
       "      <td>0</td>\n",
       "      <td>1</td>\n",
       "      <td>0</td>\n",
       "      <td>0</td>\n",
       "      <td>1</td>\n",
       "    </tr>\n",
       "    <tr>\n",
       "      <th>4</th>\n",
       "      <td>896</td>\n",
       "      <td>3</td>\n",
       "      <td>1</td>\n",
       "      <td>1</td>\n",
       "      <td>1</td>\n",
       "      <td>0</td>\n",
       "      <td>0</td>\n",
       "      <td>0</td>\n",
       "      <td>1</td>\n",
       "    </tr>\n",
       "  </tbody>\n",
       "</table>\n",
       "</div>"
      ],
      "text/plain": [
       "   PassengerId  Pclass  SibSp  Parch  female  male  C  Q  S\n",
       "0          892       3      0      0       0     1  0  1  0\n",
       "1          893       3      1      0       1     0  0  0  1\n",
       "2          894       2      0      0       0     1  0  1  0\n",
       "3          895       3      0      0       0     1  0  0  1\n",
       "4          896       3      1      1       1     0  0  0  1"
      ]
     },
     "execution_count": 49,
     "metadata": {},
     "output_type": "execute_result"
    }
   ],
   "source": [
    "test.head()"
   ]
  },
  {
   "cell_type": "code",
   "execution_count": 50,
   "id": "opened-royalty",
   "metadata": {
    "execution": {
     "iopub.execute_input": "2021-04-02T07:49:53.558479Z",
     "iopub.status.busy": "2021-04-02T07:49:53.557435Z",
     "iopub.status.idle": "2021-04-02T07:49:53.562805Z",
     "shell.execute_reply": "2021-04-02T07:49:53.562276Z"
    },
    "papermill": {
     "duration": 0.095971,
     "end_time": "2021-04-02T07:49:53.562956",
     "exception": false,
     "start_time": "2021-04-02T07:49:53.466985",
     "status": "completed"
    },
    "tags": []
   },
   "outputs": [
    {
     "data": {
      "text/plain": [
       "array([0, 1, 0, 0, 1, 0, 1, 0, 1, 0, 0, 0, 1, 0, 1, 1, 0, 0, 1, 1, 0, 0,\n",
       "       1, 1, 1, 0, 1, 0, 0, 0, 0, 0, 1, 1, 0, 0, 1, 1, 0, 0, 0, 0, 0, 1,\n",
       "       1, 0, 1, 0, 1, 1, 0, 0, 1, 1, 0, 0, 0, 0, 0, 1, 0, 0, 0, 1, 0, 1,\n",
       "       1, 0, 1, 1, 1, 0, 1, 1, 1, 1, 0, 1, 0, 1, 0, 0, 0, 0, 0, 0, 1, 1,\n",
       "       1, 0, 1, 0, 1, 0, 1, 0, 1, 0, 1, 0, 1, 0, 0, 0, 1, 0, 0, 0, 0, 0,\n",
       "       0, 1, 1, 1, 1, 0, 0, 1, 1, 1, 1, 0, 1, 0, 0, 1, 0, 1, 0, 0, 0, 1,\n",
       "       1, 0, 0, 0, 0, 0, 1, 0, 0, 1, 0, 0, 0, 0, 0, 0, 0, 0, 1, 0, 0, 1,\n",
       "       0, 0, 1, 1, 0, 1, 1, 0, 1, 0, 0, 1, 1, 0, 1, 1, 0, 0, 0, 0, 0, 1,\n",
       "       1, 0, 1, 1, 0, 0, 1, 0, 1, 0, 1, 0, 0, 0, 0, 0, 0, 0, 0, 0, 1, 1,\n",
       "       0, 1, 1, 0, 0, 1, 0, 1, 1, 0, 1, 0, 0, 0, 0, 1, 0, 0, 1, 0, 1, 0,\n",
       "       1, 0, 1, 0, 1, 1, 0, 1, 0, 0, 0, 1, 0, 0, 0, 0, 0, 0, 1, 1, 1, 1,\n",
       "       0, 0, 0, 0, 1, 0, 1, 1, 1, 0, 0, 0, 0, 0, 0, 0, 1, 0, 0, 0, 1, 1,\n",
       "       0, 0, 0, 0, 1, 0, 1, 0, 1, 1, 0, 1, 0, 0, 0, 0, 1, 0, 1, 1, 1, 0,\n",
       "       0, 0, 0, 0, 0, 1, 0, 0, 0, 0, 1, 0, 0, 0, 0, 0, 0, 0, 1, 1, 0, 0,\n",
       "       0, 1, 0, 0, 0, 1, 1, 1, 0, 0, 0, 0, 0, 0, 0, 0, 1, 0, 1, 1, 0, 0,\n",
       "       1, 1, 0, 1, 0, 0, 0, 0, 0, 0, 0, 0, 0, 1, 0, 1, 0, 1, 0, 1, 1, 0,\n",
       "       0, 0, 1, 0, 1, 0, 0, 1, 0, 1, 1, 0, 1, 0, 0, 1, 1, 0, 0, 1, 0, 0,\n",
       "       1, 1, 1, 0, 0, 0, 0, 0, 1, 1, 0, 1, 0, 0, 0, 0, 0, 1, 0, 0, 0, 1,\n",
       "       0, 1, 0, 0, 1, 0, 1, 0, 0, 0, 0, 0, 1, 1, 1, 1, 1, 0, 1, 0, 0, 0])"
      ]
     },
     "execution_count": 50,
     "metadata": {},
     "output_type": "execute_result"
    }
   ],
   "source": [
    "final_pred = model1.predict(test)\n",
    "final_pred"
   ]
  },
  {
   "cell_type": "code",
   "execution_count": 51,
   "id": "sharing-lighter",
   "metadata": {
    "execution": {
     "iopub.execute_input": "2021-04-02T07:49:53.736058Z",
     "iopub.status.busy": "2021-04-02T07:49:53.735390Z",
     "iopub.status.idle": "2021-04-02T07:49:53.739919Z",
     "shell.execute_reply": "2021-04-02T07:49:53.739357Z"
    },
    "papermill": {
     "duration": 0.09601,
     "end_time": "2021-04-02T07:49:53.740062",
     "exception": false,
     "start_time": "2021-04-02T07:49:53.644052",
     "status": "completed"
    },
    "tags": []
   },
   "outputs": [
    {
     "data": {
      "text/html": [
       "<div>\n",
       "<style scoped>\n",
       "    .dataframe tbody tr th:only-of-type {\n",
       "        vertical-align: middle;\n",
       "    }\n",
       "\n",
       "    .dataframe tbody tr th {\n",
       "        vertical-align: top;\n",
       "    }\n",
       "\n",
       "    .dataframe thead th {\n",
       "        text-align: right;\n",
       "    }\n",
       "</style>\n",
       "<table border=\"1\" class=\"dataframe\">\n",
       "  <thead>\n",
       "    <tr style=\"text-align: right;\">\n",
       "      <th></th>\n",
       "      <th>PassengerId</th>\n",
       "      <th>Survived</th>\n",
       "    </tr>\n",
       "  </thead>\n",
       "  <tbody>\n",
       "    <tr>\n",
       "      <th>0</th>\n",
       "      <td>892</td>\n",
       "      <td>0</td>\n",
       "    </tr>\n",
       "    <tr>\n",
       "      <th>1</th>\n",
       "      <td>893</td>\n",
       "      <td>1</td>\n",
       "    </tr>\n",
       "    <tr>\n",
       "      <th>2</th>\n",
       "      <td>894</td>\n",
       "      <td>0</td>\n",
       "    </tr>\n",
       "    <tr>\n",
       "      <th>3</th>\n",
       "      <td>895</td>\n",
       "      <td>0</td>\n",
       "    </tr>\n",
       "    <tr>\n",
       "      <th>4</th>\n",
       "      <td>896</td>\n",
       "      <td>1</td>\n",
       "    </tr>\n",
       "  </tbody>\n",
       "</table>\n",
       "</div>"
      ],
      "text/plain": [
       "   PassengerId  Survived\n",
       "0          892         0\n",
       "1          893         1\n",
       "2          894         0\n",
       "3          895         0\n",
       "4          896         1"
      ]
     },
     "execution_count": 51,
     "metadata": {},
     "output_type": "execute_result"
    }
   ],
   "source": [
    "test['Survived'] = final_pred\n",
    "test.drop(['Pclass','SibSp','Parch','female','male','C','Q','S'],inplace=True,axis=1)\n",
    "test.head()"
   ]
  },
  {
   "cell_type": "code",
   "execution_count": 52,
   "id": "selected-fundamentals",
   "metadata": {
    "execution": {
     "iopub.execute_input": "2021-04-02T07:49:53.911736Z",
     "iopub.status.busy": "2021-04-02T07:49:53.911035Z",
     "iopub.status.idle": "2021-04-02T07:49:53.917405Z",
     "shell.execute_reply": "2021-04-02T07:49:53.917955Z"
    },
    "papermill": {
     "duration": 0.094225,
     "end_time": "2021-04-02T07:49:53.918129",
     "exception": false,
     "start_time": "2021-04-02T07:49:53.823904",
     "status": "completed"
    },
    "tags": []
   },
   "outputs": [],
   "source": [
    "test.to_csv('submission_titanic.csv', index=False)"
   ]
  }
 ],
 "metadata": {
  "kernelspec": {
   "display_name": "Python 3",
   "language": "python",
   "name": "python3"
  },
  "language_info": {
   "codemirror_mode": {
    "name": "ipython",
    "version": 3
   },
   "file_extension": ".py",
   "mimetype": "text/x-python",
   "name": "python",
   "nbconvert_exporter": "python",
   "pygments_lexer": "ipython3",
   "version": "3.7.9"
  },
  "papermill": {
   "default_parameters": {},
   "duration": 27.823651,
   "end_time": "2021-04-02T07:49:54.714930",
   "environment_variables": {},
   "exception": null,
   "input_path": "__notebook__.ipynb",
   "output_path": "__notebook__.ipynb",
   "parameters": {},
   "start_time": "2021-04-02T07:49:26.891279",
   "version": "2.3.2"
  }
 },
 "nbformat": 4,
 "nbformat_minor": 5
}
