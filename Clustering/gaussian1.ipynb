{
 "cells": [
  {
   "cell_type": "code",
   "execution_count": 1,
   "id": "3cec2a00-604e-496a-a956-4720797c48bb",
   "metadata": {},
   "outputs": [],
   "source": [
    "from sklearn.datasets import load_iris\n",
    "from sklearn.cluster import KMeans\n"
   ]
  },
  {
   "cell_type": "code",
   "execution_count": 2,
   "id": "0fda8d4b-f427-4e65-9979-021a804324fb",
   "metadata": {},
   "outputs": [],
   "source": [
    "import matplotlib.pyplot as plt\n",
    "import numpy as np\n",
    "import pandas as pd\n",
    "\n",
    "%matplotlib inline\n",
    "iris = load_iris()\n",
    "feature_names = ['sepal_length','sepal_width','petal_length','petal_width']\n",
    "irisDF = pd.DataFrame(data=iris.data,columns=feature_names)"
   ]
  },
  {
   "cell_type": "code",
   "execution_count": 4,
   "id": "1999c762-70e8-4128-b759-b8e6975d0757",
   "metadata": {},
   "outputs": [
    {
     "name": "stdout",
     "output_type": "stream",
     "text": [
      "target  gmm_cluster\n",
      "0       0              50\n",
      "1       1              45\n",
      "        2               5\n",
      "2       2              50\n",
      "Name: gmm_cluster, dtype: int64\n"
     ]
    }
   ],
   "source": [
    "from sklearn.mixture import GaussianMixture\n",
    "\n",
    "gmm = GaussianMixture(n_components=3,random_state=0).fit(iris.data)\n",
    "gmm_cluster_labels = gmm.predict(iris.data)\n",
    "\n",
    "irisDF['gmm_cluster']=gmm_cluster_labels\n",
    "irisDF['target']=iris.target\n",
    "\n",
    "iris_result = irisDF.groupby(['target'])['gmm_cluster'].value_counts()\n",
    "print(iris_result)"
   ]
  },
  {
   "cell_type": "markdown",
   "id": "158da903-d0ab-4776-bd73-4ccc1003d64a",
   "metadata": {},
   "source": [
    "### GMM vs Kmeans what is better?\n",
    "\n",
    "책에는 데이터의 유형 차이라고 되어이는데, 이런건 못참아서 새로운 보고서를 하나 찾아봤다.\n",
    "\n",
    "우선 책에 나와있는 내용으로는..\n",
    "\n",
    "-데이터가 길쭉하게 밀접할 경우 GMM이 더 좋다\n",
    "\n",
    "-데이터가 원형으로 펴진경우\n",
    "\n",
    "https://www.sjsu.edu/faculty/guangliang.chen/Math285F15/MATH285_Project_Report_Weiqian.pdf 여기에 나와있는 내용인데\n",
    "\n",
    "iris_data의 경우 gmm이 좀 더 데이터의 특성을 잘 나타낸다고 한다.\n",
    "\n",
    "<img src=\"gmmvskmeans.png\" width=1200 height=1200 />\n",
    "\n",
    "=>매트랩으로 나타낸 경우이다"
   ]
  },
  {
   "cell_type": "code",
   "execution_count": null,
   "id": "57dc1498-16ec-4ebc-b868-c6942e1fcc55",
   "metadata": {},
   "outputs": [],
   "source": []
  }
 ],
 "metadata": {
  "kernelspec": {
   "display_name": "pytorch",
   "language": "python",
   "name": "pytorch"
  },
  "language_info": {
   "codemirror_mode": {
    "name": "ipython",
    "version": 3
   },
   "file_extension": ".py",
   "mimetype": "text/x-python",
   "name": "python",
   "nbconvert_exporter": "python",
   "pygments_lexer": "ipython3",
   "version": "3.6.12"
  }
 },
 "nbformat": 4,
 "nbformat_minor": 5
}
